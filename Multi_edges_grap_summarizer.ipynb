{
 "cells": [
  {
   "cell_type": "code",
   "execution_count": 161,
   "metadata": {},
   "outputs": [],
   "source": [
    "from rouge import Rouge\n",
    "from datasets import load_dataset\n",
    "import pandas as pd\n",
    "import numpy as np\n",
    "from nltk.corpus import stopwords\n",
    "from nltk.tokenize import word_tokenize\n",
    "import regex as re\n",
    "import nltk\n",
    "from nltk.tokenize import word_tokenize, sent_tokenize\n",
    "from nltk.stem import PorterStemmer\n",
    "from rouge_score import rouge_scorer"
   ]
  },
  {
   "cell_type": "markdown",
   "metadata": {},
   "source": [
    "# Load data"
   ]
  },
  {
   "cell_type": "code",
   "execution_count": 67,
   "metadata": {},
   "outputs": [],
   "source": [
    "cnn_daily_dataset = load_dataset('cnn_dailymail', '3.0.0')"
   ]
  },
  {
   "cell_type": "code",
   "execution_count": 68,
   "metadata": {},
   "outputs": [
    {
     "data": {
      "text/plain": [
       "DatasetDict({\n",
       "    train: Dataset({\n",
       "        features: ['article', 'highlights', 'id'],\n",
       "        num_rows: 287113\n",
       "    })\n",
       "    validation: Dataset({\n",
       "        features: ['article', 'highlights', 'id'],\n",
       "        num_rows: 13368\n",
       "    })\n",
       "    test: Dataset({\n",
       "        features: ['article', 'highlights', 'id'],\n",
       "        num_rows: 11490\n",
       "    })\n",
       "})"
      ]
     },
     "execution_count": 68,
     "metadata": {},
     "output_type": "execute_result"
    }
   ],
   "source": [
    "cnn_daily_dataset"
   ]
  },
  {
   "cell_type": "code",
   "execution_count": 77,
   "metadata": {},
   "outputs": [],
   "source": [
    "train_df = pd.DataFrame.from_dict(cnn_daily_dataset['train']).drop(columns='id')\n",
    "val_df = pd.DataFrame.from_dict(cnn_daily_dataset['validation']).drop(columns='id')\n",
    "test_df = pd.DataFrame.from_dict(cnn_daily_dataset['test']).drop(columns='id')"
   ]
  },
  {
   "cell_type": "code",
   "execution_count": 81,
   "metadata": {},
   "outputs": [
    {
     "data": {
      "text/html": [
       "<div>\n",
       "<style scoped>\n",
       "    .dataframe tbody tr th:only-of-type {\n",
       "        vertical-align: middle;\n",
       "    }\n",
       "\n",
       "    .dataframe tbody tr th {\n",
       "        vertical-align: top;\n",
       "    }\n",
       "\n",
       "    .dataframe thead th {\n",
       "        text-align: right;\n",
       "    }\n",
       "</style>\n",
       "<table border=\"1\" class=\"dataframe\">\n",
       "  <thead>\n",
       "    <tr style=\"text-align: right;\">\n",
       "      <th></th>\n",
       "      <th>article</th>\n",
       "      <th>highlights</th>\n",
       "    </tr>\n",
       "  </thead>\n",
       "  <tbody>\n",
       "    <tr>\n",
       "      <th>0</th>\n",
       "      <td>LONDON, England (Reuters) -- Harry Potter star...</td>\n",
       "      <td>Harry Potter star Daniel Radcliffe gets £20M f...</td>\n",
       "    </tr>\n",
       "    <tr>\n",
       "      <th>1</th>\n",
       "      <td>Editor's note: In our Behind the Scenes series...</td>\n",
       "      <td>Mentally ill inmates in Miami are housed on th...</td>\n",
       "    </tr>\n",
       "    <tr>\n",
       "      <th>2</th>\n",
       "      <td>MINNEAPOLIS, Minnesota (CNN) -- Drivers who we...</td>\n",
       "      <td>NEW: \"I thought I was going to die,\" driver sa...</td>\n",
       "    </tr>\n",
       "    <tr>\n",
       "      <th>3</th>\n",
       "      <td>WASHINGTON (CNN) -- Doctors removed five small...</td>\n",
       "      <td>Five small polyps found during procedure; \"non...</td>\n",
       "    </tr>\n",
       "    <tr>\n",
       "      <th>4</th>\n",
       "      <td>(CNN)  -- The National Football League has ind...</td>\n",
       "      <td>NEW: NFL chief, Atlanta Falcons owner critical...</td>\n",
       "    </tr>\n",
       "    <tr>\n",
       "      <th>...</th>\n",
       "      <td>...</td>\n",
       "      <td>...</td>\n",
       "    </tr>\n",
       "    <tr>\n",
       "      <th>287108</th>\n",
       "      <td>The nine-year-old daughter of a black, unarmed...</td>\n",
       "      <td>Rumain Brisbon, 34, was killed after Phoenix p...</td>\n",
       "    </tr>\n",
       "    <tr>\n",
       "      <th>287109</th>\n",
       "      <td>Legalising assisted suicide is a slippery slop...</td>\n",
       "      <td>Theo Boer, a European assisted suicide watchdo...</td>\n",
       "    </tr>\n",
       "    <tr>\n",
       "      <th>287110</th>\n",
       "      <td>A group calling itself 'The Women of the 99 Pe...</td>\n",
       "      <td>Ohio congressman criticised for 'condoning the...</td>\n",
       "    </tr>\n",
       "    <tr>\n",
       "      <th>287111</th>\n",
       "      <td>Most men enjoy a good pint of lager or real al...</td>\n",
       "      <td>The Black Country Ale Tairsters have been to 1...</td>\n",
       "    </tr>\n",
       "    <tr>\n",
       "      <th>287112</th>\n",
       "      <td>A Facebook page seeking to preserve the 'Black...</td>\n",
       "      <td>Facebook page supporting tradition gains one m...</td>\n",
       "    </tr>\n",
       "  </tbody>\n",
       "</table>\n",
       "<p>287113 rows × 2 columns</p>\n",
       "</div>"
      ],
      "text/plain": [
       "                                                  article  \\\n",
       "0       LONDON, England (Reuters) -- Harry Potter star...   \n",
       "1       Editor's note: In our Behind the Scenes series...   \n",
       "2       MINNEAPOLIS, Minnesota (CNN) -- Drivers who we...   \n",
       "3       WASHINGTON (CNN) -- Doctors removed five small...   \n",
       "4       (CNN)  -- The National Football League has ind...   \n",
       "...                                                   ...   \n",
       "287108  The nine-year-old daughter of a black, unarmed...   \n",
       "287109  Legalising assisted suicide is a slippery slop...   \n",
       "287110  A group calling itself 'The Women of the 99 Pe...   \n",
       "287111  Most men enjoy a good pint of lager or real al...   \n",
       "287112  A Facebook page seeking to preserve the 'Black...   \n",
       "\n",
       "                                               highlights  \n",
       "0       Harry Potter star Daniel Radcliffe gets £20M f...  \n",
       "1       Mentally ill inmates in Miami are housed on th...  \n",
       "2       NEW: \"I thought I was going to die,\" driver sa...  \n",
       "3       Five small polyps found during procedure; \"non...  \n",
       "4       NEW: NFL chief, Atlanta Falcons owner critical...  \n",
       "...                                                   ...  \n",
       "287108  Rumain Brisbon, 34, was killed after Phoenix p...  \n",
       "287109  Theo Boer, a European assisted suicide watchdo...  \n",
       "287110  Ohio congressman criticised for 'condoning the...  \n",
       "287111  The Black Country Ale Tairsters have been to 1...  \n",
       "287112  Facebook page supporting tradition gains one m...  \n",
       "\n",
       "[287113 rows x 2 columns]"
      ]
     },
     "execution_count": 81,
     "metadata": {},
     "output_type": "execute_result"
    }
   ],
   "source": [
    "train_df"
   ]
  },
  {
   "cell_type": "code",
   "execution_count": null,
   "metadata": {},
   "outputs": [
    {
     "data": {
      "text/html": [
       "<div>\n",
       "<style scoped>\n",
       "    .dataframe tbody tr th:only-of-type {\n",
       "        vertical-align: middle;\n",
       "    }\n",
       "\n",
       "    .dataframe tbody tr th {\n",
       "        vertical-align: top;\n",
       "    }\n",
       "\n",
       "    .dataframe thead th {\n",
       "        text-align: right;\n",
       "    }\n",
       "</style>\n",
       "<table border=\"1\" class=\"dataframe\">\n",
       "  <thead>\n",
       "    <tr style=\"text-align: right;\">\n",
       "      <th></th>\n",
       "      <th>article</th>\n",
       "      <th>highlights</th>\n",
       "    </tr>\n",
       "  </thead>\n",
       "  <tbody>\n",
       "    <tr>\n",
       "      <th>0</th>\n",
       "      <td>LONDON, England (Reuters) -- Harry Potter star...</td>\n",
       "      <td>Harry Potter star Daniel Radcliffe gets £20M f...</td>\n",
       "    </tr>\n",
       "    <tr>\n",
       "      <th>1</th>\n",
       "      <td>Editor's note: In our Behind the Scenes series...</td>\n",
       "      <td>Mentally ill inmates in Miami are housed on th...</td>\n",
       "    </tr>\n",
       "    <tr>\n",
       "      <th>2</th>\n",
       "      <td>MINNEAPOLIS, Minnesota (CNN) -- Drivers who we...</td>\n",
       "      <td>NEW: \"I thought I was going to die,\" driver sa...</td>\n",
       "    </tr>\n",
       "    <tr>\n",
       "      <th>3</th>\n",
       "      <td>WASHINGTON (CNN) -- Doctors removed five small...</td>\n",
       "      <td>Five small polyps found during procedure; \"non...</td>\n",
       "    </tr>\n",
       "    <tr>\n",
       "      <th>4</th>\n",
       "      <td>(CNN)  -- The National Football League has ind...</td>\n",
       "      <td>NEW: NFL chief, Atlanta Falcons owner critical...</td>\n",
       "    </tr>\n",
       "  </tbody>\n",
       "</table>\n",
       "</div>"
      ],
      "text/plain": [
       "                                             article  \\\n",
       "0  LONDON, England (Reuters) -- Harry Potter star...   \n",
       "1  Editor's note: In our Behind the Scenes series...   \n",
       "2  MINNEAPOLIS, Minnesota (CNN) -- Drivers who we...   \n",
       "3  WASHINGTON (CNN) -- Doctors removed five small...   \n",
       "4  (CNN)  -- The National Football League has ind...   \n",
       "\n",
       "                                          highlights  \n",
       "0  Harry Potter star Daniel Radcliffe gets £20M f...  \n",
       "1  Mentally ill inmates in Miami are housed on th...  \n",
       "2  NEW: \"I thought I was going to die,\" driver sa...  \n",
       "3  Five small polyps found during procedure; \"non...  \n",
       "4  NEW: NFL chief, Atlanta Falcons owner critical...  "
      ]
     },
     "execution_count": 103,
     "metadata": {},
     "output_type": "execute_result"
    }
   ],
   "source": [
    "df = pd.concat([train_df,test_df, val_df], ignore_index=True)"
   ]
  },
  {
   "cell_type": "code",
   "execution_count": 105,
   "metadata": {},
   "outputs": [],
   "source": [
    "df_tmp = df.copy()\n",
    "df = df[:5]"
   ]
  },
  {
   "cell_type": "code",
   "execution_count": 175,
   "metadata": {},
   "outputs": [],
   "source": [
    "# Reset\n",
    "df = df_tmp[:5]"
   ]
  },
  {
   "cell_type": "code",
   "execution_count": 176,
   "metadata": {},
   "outputs": [
    {
     "name": "stdout",
     "output_type": "stream",
     "text": [
      "LONDON, England (Reuters) -- Harry Potter star Daniel Radcliffe gains access to a reported £20 million ($41.1 million) fortune as he turns 18 on Monday, but he insists the money won't cast a spell on him. Daniel Radcliffe as Harry Potter in \"Harry Potter and the Order of the Phoenix\" To the disappointment of gossip columnists around the world, the young actor says he has no plans to fritter his cash away on fast cars, drink and celebrity parties. \"I don't plan to be one of those people who, as soon as they turn 18, suddenly buy themselves a massive sports car collection or something similar,\" he told an Australian interviewer earlier this month. \"I don't think I'll be particularly extravagant. \"The things I like buying are things that cost about 10 pounds -- books and CDs and DVDs.\" At 18, Radcliffe will be able to gamble in a casino, buy a drink in a pub or see the horror film \"Hostel: Part II,\" currently six places below his number one movie on the UK box office chart. Details of how he'll mark his landmark birthday are under wraps. His agent and publicist had no comment on his plans. \"I'll definitely have some sort of party,\" he said in an interview. \"Hopefully none of you will be reading about it.\" Radcliffe's earnings from the first five Potter films have been held in a trust fund which he has not been able to touch. Despite his growing fame and riches, the actor says he is keeping his feet firmly on the ground. \"People are always looking to say 'kid star goes off the rails,'\" he told reporters last month. \"But I try very hard not to go that way because it would be too easy for them.\" His latest outing as the boy wizard in \"Harry Potter and the Order of the Phoenix\" is breaking records on both sides of the Atlantic and he will reprise the role in the last two films.  Watch I-Reporter give her review of Potter's latest » . There is life beyond Potter, however. The Londoner has filmed a TV movie called \"My Boy Jack,\" about author Rudyard Kipling and his son, due for release later this year. He will also appear in \"December Boys,\" an Australian film about four boys who escape an orphanage. Earlier this year, he made his stage debut playing a tortured teenager in Peter Shaffer's \"Equus.\" Meanwhile, he is braced for even closer media scrutiny now that he's legally an adult: \"I just think I'm going to be more sort of fair game,\" he told Reuters. E-mail to a friend . Copyright 2007 Reuters. All rights reserved.This material may not be published, broadcast, rewritten, or redistributed.\n"
     ]
    }
   ],
   "source": [
    "print(df['article'][0])"
   ]
  },
  {
   "cell_type": "markdown",
   "metadata": {},
   "source": [
    "# Preprocess data"
   ]
  },
  {
   "cell_type": "code",
   "execution_count": 168,
   "metadata": {},
   "outputs": [],
   "source": [
    "def cleaned_list_of_sentences(article):\n",
    "    # Split text into sentences\n",
    "    sentences = sent_tokenize(article)\n",
    "\n",
    "    # Prepare the set of stop words\n",
    "    stop_words = set(stopwords.words('english'))\n",
    "    stemmer = PorterStemmer()\n",
    "\n",
    "    # For each sentence, tokenize -> remove stopwords -> rejoin\n",
    "    filtered_sentences = []\n",
    "    for sent in sentences:\n",
    "        filtered_stemmed_tokens = []\n",
    "        # Tokenize words in this sentence\n",
    "        tokens = word_tokenize(sent)\n",
    "        # Apply steaming and filter out stopwords \n",
    "        for word in tokens:\n",
    "            word = stemmer.stem(word) \n",
    "            if word not in stop_words:\n",
    "                filtered_stemmed_tokens.append(word)\n",
    "\n",
    "        # Rejoin tokens to form a sentence\n",
    "        filtered_sentence = \" \".join(filtered_stemmed_tokens)\n",
    "        filtered_sentences.append(filtered_sentence)\n",
    "    return filtered_sentences"
   ]
  },
  {
   "cell_type": "code",
   "execution_count": null,
   "metadata": {},
   "outputs": [],
   "source": [
    "# Make lower case\n",
    "df = df.applymap(lambda x: x.lower() if isinstance(x, str) else x)\n",
    "\n",
    "# Remove none alphabetics, none digits and none dot signs \n",
    "pattern = r'[^A-Za-z0-9.\\s]+'\n",
    "df['article'] = df['article'].apply(lambda x: re.sub(pattern, '', x))\n",
    "\n",
    "# Remove stopwords and apply steeming\n",
    "df['article'] = df['article'].apply(cleaned_list_of_sentences)"
   ]
  },
  {
   "cell_type": "markdown",
   "metadata": {},
   "source": [
    "# Create summaries"
   ]
  },
  {
   "cell_type": "code",
   "execution_count": 171,
   "metadata": {},
   "outputs": [],
   "source": [
    "def create_matrix(senteces_list):\n",
    "    n = len(senteces_list)\n",
    "    matrix = np.zeros((n, n))\n",
    "    for i in range(n):\n",
    "        for j in range(i + 1, n):\n",
    "            common_words = set(senteces_list[i]) & set(senteces_list[j])\n",
    "            matrix[i][j] = matrix[j][i] = len(common_words)\n",
    "    return matrix\n",
    "\n",
    "def get_rank(matrix):\n",
    "    ranking_vector = matrix.sum(axis=1)\n",
    "    # Step 4: Rank Sentences\n",
    "    ranked_sentences = sorted(enumerate(ranking_vector), key=lambda x: x[1], reverse=True)\n",
    "\n",
    "    return ranked_sentences\n",
    "\n",
    "def produce_summary(summary_threshold, sentences, ranked_sentences):\n",
    "    summary_indices = [index for index, _ in ranked_sentences[:summary_threshold]]\n",
    "    summary = \" \".join([sentences[i] for i in sorted(summary_indices)])\n",
    "\n",
    "    return summary "
   ]
  },
  {
   "cell_type": "code",
   "execution_count": 177,
   "metadata": {},
   "outputs": [
    {
     "data": {
      "text/plain": [
       "'LONDON, England (Reuters) -- Harry Potter star Daniel Radcliffe gains access to a reported £20 million ($41.1 million) fortune as he turns 18 on Monday, but he insists the money won\\'t cast a spell on him. Daniel Radcliffe as Harry Potter in \"Harry Potter and the Order of the Phoenix\" To the disappointment of gossip columnists around the world, the young actor says he has no plans to fritter his cash away on fast cars, drink and celebrity parties. \"I don\\'t plan to be one of those people who, as soon as they turn 18, suddenly buy themselves a massive sports car collection or something similar,\" he told an Australian interviewer earlier this month. \"I don\\'t think I\\'ll be particularly extravagant. \"The things I like buying are things that cost about 10 pounds -- books and CDs and DVDs.\" At 18, Radcliffe will be able to gamble in a casino, buy a drink in a pub or see the horror film \"Hostel: Part II,\" currently six places below his number one movie on the UK box office chart. Details of how he\\'ll mark his landmark birthday are under wraps. His agent and publicist had no comment on his plans. \"I\\'ll definitely have some sort of party,\" he said in an interview. \"Hopefully none of you will be reading about it.\" Radcliffe\\'s earnings from the first five Potter films have been held in a trust fund which he has not been able to touch. Despite his growing fame and riches, the actor says he is keeping his feet firmly on the ground. \"People are always looking to say \\'kid star goes off the rails,\\'\" he told reporters last month. \"But I try very hard not to go that way because it would be too easy for them.\" His latest outing as the boy wizard in \"Harry Potter and the Order of the Phoenix\" is breaking records on both sides of the Atlantic and he will reprise the role in the last two films.  Watch I-Reporter give her review of Potter\\'s latest » . There is life beyond Potter, however. The Londoner has filmed a TV movie called \"My Boy Jack,\" about author Rudyard Kipling and his son, due for release later this year. He will also appear in \"December Boys,\" an Australian film about four boys who escape an orphanage. Earlier this year, he made his stage debut playing a tortured teenager in Peter Shaffer\\'s \"Equus.\" Meanwhile, he is braced for even closer media scrutiny now that he\\'s legally an adult: \"I just think I\\'m going to be more sort of fair game,\" he told Reuters. E-mail to a friend . Copyright 2007 Reuters. All rights reserved.This material may not be published, broadcast, rewritten, or redistributed.'"
      ]
     },
     "execution_count": 177,
     "metadata": {},
     "output_type": "execute_result"
    }
   ],
   "source": [
    "df['article'][0]"
   ]
  },
  {
   "cell_type": "code",
   "execution_count": 172,
   "metadata": {},
   "outputs": [
    {
     "name": "stdout",
     "output_type": "stream",
     "text": [
      "['london england reuter harri potter star daniel radcliff gain access report 20 million 41.1 million fortun turn 18 monday insist money wont cast spell .', 'daniel radcliff harri potter harri potter order phoenix disappoint gossip columnist around world young actor say ha plan fritter hi cash away fast car drink celebr parti .', 'dont plan one peopl soon turn 18 suddenli buy themselv massiv sport car collect someth similar told australian interview earlier thi month .', 'dont think ill particularli extravag .', 'thing like buy thing cost 10 pound book cd dvd .', '18 radcliff abl gambl casino buy drink pub see horror film hostel part ii current six place hi number one movi uk box offic chart .', 'detail hell mark hi landmark birthday wrap .', 'hi agent publicist comment hi plan .', 'ill definit sort parti said interview .', 'hope none read .', 'radcliff earn first five potter film held trust fund ha abl touch .', 'despit hi grow fame rich actor say keep hi feet firmli ground .', 'peopl alway look say kid star goe rail told report last month .', 'tri veri hard go way becaus would easi .', 'hi latest outing boy wizard harri potter order phoenix break record side atlant repris role last two film .', 'watch ireport give review potter latest .', 'life beyond potter howev .', 'london ha film tv movi call boy jack author rudyard kipl hi son due releas later thi year .', 'also appear decemb boy australian film four boy escap orphanag .', 'earlier thi year made hi stage debut play tortur teenag peter shaffer equu .', 'meanwhil brace even closer media scrutini legal adult think im go sort fair game told reuter .', 'email friend .', 'copyright 2007 reuter .', 'right reserved.thi materi may publish broadcast rewritten redistribut .']\n",
      "[(5, 424.0), (1, 420.0), (14, 420.0), (23, 407.0), (11, 403.0), (0, 402.0), (17, 401.0), (2, 397.0), (18, 396.0), (20, 393.0), (19, 380.0), (10, 377.0), (12, 359.0), (4, 353.0), (13, 352.0), (3, 346.0), (7, 328.0), (6, 320.0), (16, 320.0), (8, 307.0), (15, 307.0), (22, 260.0), (21, 220.0), (9, 212.0)]\n",
      "['editor note behind scene seri cnn correspond share experi cover news analyz stori behind event .', 'soledad obrien take user insid jail mani inmat mental ill. inmat hous forgotten floor mani mental ill inmat hous miami befor trial .', 'miami florida cnn ninth floor miamidad pretrial detent facil dub forgotten floor .', 'inmat sever mental ill incarcer theyr readi appear court .', 'often face drug charg charg assault offic charg judg steven leifman say usual avoid feloni .', 'say arrest often result confront polic .', 'mental ill peopl often wont theyr told polic arriv scene confront seem exacerb ill becom paranoid delusion less like follow direct accord leifman .', 'end ninth floor sever mental disturb get ani real help becaus theyr jail .', 'tour jail leifman .', 'well known miami advoc justic mental ill. even though exactli welcom open arm guard given permiss shoot videotap tour floor .', 'go insid forgotten floor .', 'first hard determin peopl .', 'prison wear sleeveless robe .', 'imagin cut hole arm feet heavi wool sleep bag kind look like .', 'theyr design keep mental ill patient injur themselv .', 'also whi shoe lace mattress .', 'leifman say onethird peopl miamidad counti jail mental ill. say sheer volum overwhelm system result see ninth floor .', 'cours jail suppos warm comfort light glare cell tini loud .', 'see two sometim three men sometim robe sometim nake lie sit cell .', 'son presid .', 'need get one man shout .', 'absolut seriou convinc help way onli could reach white hous .', 'leifman tell prisonerpati often circul system occasion stabil mental hospit onli return jail face charg .', 'brutal unjust hi mind ha becom strong advoc chang thing miami .', 'meal later talk thing got thi way mental patient .', 'leifman say 200 year ago peopl consid lunat lock jail even charg .', 'consid unfit societi .', 'year say wa public outcri mental ill move jail hospit .', 'leifman say mani mental hospit horribl shut .', 'patient go nowher .', 'street .', 'becam mani case homeless say .', 'never got treatment .', 'leifman say 1955 half million peopl state mental hospit today number ha reduc 90 percent 40000 50000 peopl mental hospit .', 'judg say work chang thi .', 'start 2008 mani inmat would otherwis brought forgotten floor instead sent new mental health facil first step journey toward longterm treatment punish .', 'leifman say complet answer start .', 'leifman say best part winwin solut .', 'patient win famili reliev state save money simpli cycl prison .', 'leifman justic serv .', 'email friend .']\n",
      "[(35, 671.0), (7, 667.0), (6, 663.0), (25, 662.0), (9, 658.0), (13, 658.0), (16, 651.0), (17, 632.0), (22, 628.0), (4, 626.0), (33, 622.0), (27, 621.0), (21, 600.0), (23, 599.0), (3, 597.0), (1, 589.0), (2, 583.0), (0, 577.0), (14, 575.0), (28, 572.0), (37, 562.0), (38, 562.0), (36, 546.0), (11, 534.0), (18, 529.0), (5, 524.0), (24, 516.0), (34, 510.0), (39, 503.0), (15, 467.0), (8, 464.0), (31, 451.0), (12, 444.0), (10, 433.0), (29, 425.0), (20, 421.0), (26, 396.0), (40, 376.0), (32, 365.0), (19, 349.0), (30, 226.0)]\n",
      "['minneapoli minnesota cnn driver minneapoli bridg collaps told harrow tale surviv .', 'whole bridg one side mississippi complet gave way fell way survivor gari babineau told cnn .', 'probabl 30 35foot free fall .', 'car water car fire .', 'whole bridg .', 'said hi back wa injur determin could move around .', 'realiz wa school bu right next coupl guy went start lift kid bridg .', 'yell scream bleed .', 'think broken bone .', 'watch driver describ hi narrow escap .', 'home heard disast dr. john hink emerg room physician jump hi car rush scene 15 minut .', 'arriv south side bridg stood riverbank saw dozen peopl lie daze expans deck .', 'middl mississippi river wa churn fast way get .', 'went north side wa easier access peopl .', 'ambul also hard time drive river get closer scene .', 'work feverishli volunt emt offici manag get 55 peopl ambul less two hour .', 'occasion pickup truck medic insid would drive get injur person bring back even ground hink told cnn .', 'rescu effort wa control organ said opposit lightningquick collaps .', 'could see whole bridg wa go wa fall babineau said .', 'gave rumbl real quick gave way fell complet way ground .', 'wa dust everywher wa like everyon ha say wa like movi .', 'babineau said rear hi pickup truck wa dangl edg brokenoff section bridg .', 'said sever vehicl slid past water .', 'stay car one two second .', 'saw coupl car fall said .', 'stay car car quit fall second got real quick ran front truck becaus behind truck wa hole help woman bridg .', 'want bridg ran school bu .', 'start grab kid hand .', 'wa complet chao .', 'said children cri scream .', 'rescuer set ground told run river bank need carri becaus injuri .', 'see rescuer clamber rubbl .', 'babineau said rescu train .', 'knew moment .', 'melissa hugh 32 minneapoli told associ press wa drive home western edg bridg collaps .', 'know freefal feel felt twice hugh said .', 'pickup land top car wa hurt .', 'idea wa vehicl car told ap .', 'realli veri surreal .', 'babineau told minneapoli startribun way thought wa dead .', 'liter thought wa dead .', 'truck wa complet face point toward ground truck got rip half .', 'wa fold half cant believ im aliv .', 'see hear eyewit account .', 'berni toivonen told cnn american morn hi vehicl wa part bridg end tilt 45degre angl .', 'knew deck wa go wa question thought wa go die said .', 'bridg settl hi car remain upright put park turn key said oh im aliv said .', 'email friend .']\n",
      "[(25, 766.0), (1, 762.0), (16, 758.0), (6, 743.0), (34, 737.0), (0, 736.0), (11, 735.0), (15, 735.0), (46, 732.0), (21, 730.0), (19, 716.0), (5, 709.0), (17, 707.0), (12, 699.0), (41, 693.0), (39, 692.0), (35, 680.0), (14, 678.0), (44, 676.0), (10, 657.0), (20, 654.0), (18, 648.0), (30, 643.0), (26, 629.0), (9, 622.0), (13, 615.0), (42, 596.0), (36, 588.0), (45, 588.0), (37, 564.0), (22, 560.0), (43, 557.0), (40, 540.0), (24, 507.0), (32, 504.0), (29, 503.0), (23, 489.0), (27, 473.0), (4, 453.0), (28, 446.0), (7, 428.0), (8, 413.0), (47, 413.0), (31, 409.0), (2, 406.0), (3, 390.0), (38, 383.0), (33, 324.0)]\n",
      "['washington cnn doctor remov five small polyp presid bush colon saturday none appear worrisom white hous spokesman said .', 'polyp remov sent nation naval medic center bethesda maryland routin microscop examin spokesman scott stanzel said .', 'result expect two three day .', 'small less centimet half inch diamet said .', 'bush good humor stanzel said resum hi activ camp david .', 'dure procedur vice presid dick cheney assum presidenti power .', 'bush reclaim presidenti power 921 a.m. two hour .', 'doctor use monitor anesthesia care stanzel said presid wa asleep deepli unconsci true gener anesthet .', 'spoke first ladi laura bush midland texa celebr mother birthday befor procedur stanzel said .', 'afterward presid play hi scottish terrier barney miss beazley stanzel said .', 'plan lunch camp david brief nation secur advis stephen hadley white hous chief staff josh bolten plan take bicycl ride saturday afternoon .', 'cheney meanwhil spent morn hi home maryland eastern shore read play hi dog stanzel said .', 'noth occur requir take offici action presid befor bush reclaim presidenti power .', 'procedur wa supervis dr. richard tubb bush physician conduct multidisciplinari team nation naval medic center bethesda maryland white hous said .', 'bush last colonoscopi wa june 2002 abnorm found white hous spokesman toni snow said .', 'presid doctor recommend repeat procedur five year .', 'colonoscopi sensit test colon cancer rectal cancer polyp small clump cell becom cancer accord mayo clinic .', 'small polyp may remov dure procedur .', 'snow said friday bush polyp remov dure colonoscopi befor becom presid .', 'snow undergo chemotherapi cancer began hi colon spread hi liver .', 'watch snow talk bush procedur hi colon cancer .', 'presid want encourag everybodi use surveil snow said .', 'american cancer societi recommend peopl without high risk factor symptom begin get screen sign colorect cancer age 50. email friend .']\n",
      "[(0, 430.0), (10, 425.0), (22, 421.0), (1, 407.0), (13, 407.0), (8, 406.0), (14, 403.0), (12, 400.0), (19, 399.0), (18, 396.0), (9, 392.0), (4, 389.0), (6, 384.0), (5, 380.0), (7, 379.0), (21, 376.0), (11, 374.0), (20, 372.0), (16, 364.0), (15, 348.0), (2, 325.0), (17, 299.0), (3, 280.0)]\n",
      "['cnn nation footbal leagu ha indefinit suspend atlanta falcon quarterback michael vick without pay offici leagu said friday .', 'nfl star michael vick set appear court monday .', 'judg final say plea deal .', 'earlier vick admit particip dogfight ring part plea agreement feder prosecutor virginia .', 'admit conduct wa onli illeg also cruel reprehens .', 'team nfl nfl fan hurt action nfl commission roger goodel said letter vick .', 'goodel said would review statu suspens legal proceed .', 'paper file friday feder court virginia vick also admit two coconspir kill dog fight well .', 'falcon owner arthur blank said vick admiss describ action incomprehens unaccept .', 'suspens make strong statement conduct tarnish good reput nfl toler said statement .', 'watch led vick suspens .', 'goodel said falcon could assert ani claim remedi recov 22 million vick sign bonu 10year 130 million contract sign 2004 accord associ press .', 'vick said would plead guilti one count conspiraci travel interst commerc aid unlaw activ sponsor dog anim fight ventur plea agreement file u.s. district court richmond virginia .', 'charg punish five year prison 250000 fine full restitut special assess 3 year supervis releas plea deal said .', 'feder prosecutor agre ask low end sentenc guidelin .', 'defend plead guilti becaus defend fact guilti charg offens plea agreement said .', 'addit summari fact sign vick file agreement vick admit buy pit bull properti use train fight dog statement said bet fight receiv ani money .', 'bad newz kennel oper gambl moni provid vick offici summari fact said .', 'gambl win gener split among coconspir toni taylor quani phillip sometim purnel peac continu .', 'vick gambl place side bet ani fight .', 'vick receiv ani proce purs bad newz kennel .', 'vick also agre collect effort two caus death least six dog .', 'around april vick peac phillip test dog fight session vick properti virginia statement said .', 'peac phillip vick agre kill approxim 68 dog perform well test session 1915 moonlight road dog kill variou method includ hang drown .', 'vick agre stipul dog die result collect effort peac phillip vick summari said .', 'peac 35 virginia beach virginia phillip 28 atlanta georgia taylor 34 hampton virginia alreadi accept agreement plead guilti exchang reduc sentenc .', 'vick 27 schedul appear monday court expect plead guilti befor judg .', 'see timelin case vick .', 'judg case final say plea agreement .', 'feder case vick focus interst conspiraci vick admiss wa involv kill dog could lead local charg accord cnn legal analyst jeffrey toobin .', 'sometim happen often state follow feder prosecut charg crime exactli behavior toobin said friday .', 'risk vick make admiss hi feder guilti plea state virginia could say hey look admit violat virginia state law well .', 'go introduc charg court .', 'plea deal vick agre cooper investig provid inform may ani crimin activ testifi necessari .', 'vick also agre turn ani document ha submit polygraph test .', 'vick agre make restitut full amount cost associ dog held govern .', 'cost may includ limit cost associ care dog involv case includ necessari longterm care andor human euthanasia anim .', 'prosecutor support anim right activist ask permiss euthan dog .', 'dog could serv import evid case vick hi admit coconspir .', 'judg henri e. hudson issu order thursday tell u.s. marshal servic arrest seiz defend properti use discret whatev mean appropri protect maintain said defend properti .', 'judg order vick file refer approxim 53 pit bull dog .', 'vick indict last month goodel order quarterback report falcon train camp leagu review case .', 'blank told nfl network monday could specul vick futur falcon least seen statement fact case .', 'email friend .', 'cnn mike phelan contribut thi report .']\n",
      "[(29, 879.0), (0, 876.0), (26, 869.0), (41, 858.0), (7, 857.0), (31, 857.0), (16, 856.0), (23, 849.0), (30, 848.0), (12, 839.0), (11, 833.0), (39, 833.0), (17, 826.0), (34, 825.0), (3, 821.0), (22, 821.0), (8, 820.0), (25, 810.0), (42, 806.0), (1, 803.0), (38, 790.0), (9, 787.0), (5, 784.0), (35, 784.0), (13, 782.0), (24, 780.0), (15, 773.0), (33, 767.0), (37, 748.0), (4, 743.0), (40, 741.0), (36, 740.0), (18, 739.0), (14, 737.0), (21, 730.0), (19, 720.0), (6, 709.0), (28, 709.0), (20, 682.0), (10, 658.0), (44, 656.0), (2, 550.0), (32, 527.0), (27, 526.0), (43, 450.0)]\n"
     ]
    }
   ],
   "source": [
    "summaries = []\n",
    "\n",
    "for idx, row in df.iterrows():\n",
    "    list_of_sentences = row[\"article\"]\n",
    "    print(list_of_sentences)\n",
    "    matrix = create_matrix(list_of_sentences)\n",
    "    ranked_sents = get_rank(matrix)\n",
    "    print(ranked_sents)\n",
    "    summary_text = produce_summary(summary_threshold=2, \n",
    "                                   sentences=list_of_sentences, \n",
    "                                   ranked_sentences=ranked_sents)\n",
    "    summaries.append(summary_text)\n",
    "\n",
    "df[\"summary\"] = summaries"
   ]
  },
  {
   "cell_type": "markdown",
   "metadata": {},
   "source": [
    "# Evaluate solution"
   ]
  },
  {
   "cell_type": "code",
   "execution_count": 164,
   "metadata": {},
   "outputs": [],
   "source": [
    "scorer = rouge_scorer.RougeScorer(\n",
    "    ['rouge1', 'rouge2', 'rougeL', 'rougeLsum'],\n",
    "    use_stemmer=True\n",
    ")\n",
    "\n",
    "all_scores = []\n",
    "\n",
    "for idx, row in df.iterrows():\n",
    "    candidate = row['summary']\n",
    "    reference = row['highlights']\n",
    "    \n",
    "    # Compute the ROUGE scores for this pair\n",
    "    scores = scorer.score(candidate, reference)\n",
    "    \n",
    "    # Each score is a dict of { 'precision': float, 'recall': float, 'fmeasure': float }\n",
    "    # for each of the requested metrics.\n",
    "    all_scores.append(scores)\n",
    "\n",
    "# Let's attach these raw scores back to the DataFrame as a new column\n",
    "df['rouge_scores'] = all_scores\n"
   ]
  },
  {
   "cell_type": "code",
   "execution_count": 163,
   "metadata": {},
   "outputs": [
    {
     "data": {
      "text/html": [
       "<div>\n",
       "<style scoped>\n",
       "    .dataframe tbody tr th:only-of-type {\n",
       "        vertical-align: middle;\n",
       "    }\n",
       "\n",
       "    .dataframe tbody tr th {\n",
       "        vertical-align: top;\n",
       "    }\n",
       "\n",
       "    .dataframe thead th {\n",
       "        text-align: right;\n",
       "    }\n",
       "</style>\n",
       "<table border=\"1\" class=\"dataframe\">\n",
       "  <thead>\n",
       "    <tr style=\"text-align: right;\">\n",
       "      <th></th>\n",
       "      <th>article</th>\n",
       "      <th>highlights</th>\n",
       "      <th>summary</th>\n",
       "      <th>rouge_scores</th>\n",
       "    </tr>\n",
       "  </thead>\n",
       "  <tbody>\n",
       "    <tr>\n",
       "      <th>0</th>\n",
       "      <td>[london england reuter harri potter star danie...</td>\n",
       "      <td>harry potter star daniel radcliffe gets £20m f...</td>\n",
       "      <td>daniel radcliff harri potter harri potter orde...</td>\n",
       "      <td>{'rouge1': (0.23076923076923078, 0.17307692307...</td>\n",
       "    </tr>\n",
       "    <tr>\n",
       "      <th>1</th>\n",
       "      <td>[editor note behind scene seri cnn correspond ...</td>\n",
       "      <td>mentally ill inmates in miami are housed on th...</td>\n",
       "      <td>end ninth floor sever mental disturb get ani r...</td>\n",
       "      <td>{'rouge1': (0.04081632653061224, 0.05714285714...</td>\n",
       "    </tr>\n",
       "    <tr>\n",
       "      <th>2</th>\n",
       "      <td>[minneapoli minnesota cnn driver minneapoli br...</td>\n",
       "      <td>new: \"i thought i was going to die,\" driver sa...</td>\n",
       "      <td>whole bridg one side mississippi complet gave ...</td>\n",
       "      <td>{'rouge1': (0.04878048780487805, 0.05714285714...</td>\n",
       "    </tr>\n",
       "    <tr>\n",
       "      <th>3</th>\n",
       "      <td>[washington cnn doctor remov five small polyp ...</td>\n",
       "      <td>five small polyps found during procedure; \"non...</td>\n",
       "      <td>washington cnn doctor remov five small polyp p...</td>\n",
       "      <td>{'rouge1': (0.2916666666666667, 0.175, 0.21875...</td>\n",
       "    </tr>\n",
       "    <tr>\n",
       "      <th>4</th>\n",
       "      <td>[cnn nation footbal leagu ha indefinit suspend...</td>\n",
       "      <td>new: nfl chief, atlanta falcons owner critical...</td>\n",
       "      <td>cnn nation footbal leagu ha indefinit suspend ...</td>\n",
       "      <td>{'rouge1': (0.1951219512195122, 0.2, 0.1975308...</td>\n",
       "    </tr>\n",
       "  </tbody>\n",
       "</table>\n",
       "</div>"
      ],
      "text/plain": [
       "                                             article  \\\n",
       "0  [london england reuter harri potter star danie...   \n",
       "1  [editor note behind scene seri cnn correspond ...   \n",
       "2  [minneapoli minnesota cnn driver minneapoli br...   \n",
       "3  [washington cnn doctor remov five small polyp ...   \n",
       "4  [cnn nation footbal leagu ha indefinit suspend...   \n",
       "\n",
       "                                          highlights  \\\n",
       "0  harry potter star daniel radcliffe gets £20m f...   \n",
       "1  mentally ill inmates in miami are housed on th...   \n",
       "2  new: \"i thought i was going to die,\" driver sa...   \n",
       "3  five small polyps found during procedure; \"non...   \n",
       "4  new: nfl chief, atlanta falcons owner critical...   \n",
       "\n",
       "                                             summary  \\\n",
       "0  daniel radcliff harri potter harri potter orde...   \n",
       "1  end ninth floor sever mental disturb get ani r...   \n",
       "2  whole bridg one side mississippi complet gave ...   \n",
       "3  washington cnn doctor remov five small polyp p...   \n",
       "4  cnn nation footbal leagu ha indefinit suspend ...   \n",
       "\n",
       "                                        rouge_scores  \n",
       "0  {'rouge1': (0.23076923076923078, 0.17307692307...  \n",
       "1  {'rouge1': (0.04081632653061224, 0.05714285714...  \n",
       "2  {'rouge1': (0.04878048780487805, 0.05714285714...  \n",
       "3  {'rouge1': (0.2916666666666667, 0.175, 0.21875...  \n",
       "4  {'rouge1': (0.1951219512195122, 0.2, 0.1975308...  "
      ]
     },
     "execution_count": 163,
     "metadata": {},
     "output_type": "execute_result"
    }
   ],
   "source": [
    "df"
   ]
  },
  {
   "cell_type": "code",
   "execution_count": 178,
   "metadata": {},
   "outputs": [
    {
     "data": {
      "text/plain": [
       "'LONDON, England (Reuters) -- Harry Potter star Daniel Radcliffe gains access to a reported £20 million ($41.1 million) fortune as he turns 18 on Monday, but he insists the money won\\'t cast a spell on him. Daniel Radcliffe as Harry Potter in \"Harry Potter and the Order of the Phoenix\" To the disappointment of gossip columnists around the world, the young actor says he has no plans to fritter his cash away on fast cars, drink and celebrity parties. \"I don\\'t plan to be one of those people who, as soon as they turn 18, suddenly buy themselves a massive sports car collection or something similar,\" he told an Australian interviewer earlier this month. \"I don\\'t think I\\'ll be particularly extravagant. \"The things I like buying are things that cost about 10 pounds -- books and CDs and DVDs.\" At 18, Radcliffe will be able to gamble in a casino, buy a drink in a pub or see the horror film \"Hostel: Part II,\" currently six places below his number one movie on the UK box office chart. Details of how he\\'ll mark his landmark birthday are under wraps. His agent and publicist had no comment on his plans. \"I\\'ll definitely have some sort of party,\" he said in an interview. \"Hopefully none of you will be reading about it.\" Radcliffe\\'s earnings from the first five Potter films have been held in a trust fund which he has not been able to touch. Despite his growing fame and riches, the actor says he is keeping his feet firmly on the ground. \"People are always looking to say \\'kid star goes off the rails,\\'\" he told reporters last month. \"But I try very hard not to go that way because it would be too easy for them.\" His latest outing as the boy wizard in \"Harry Potter and the Order of the Phoenix\" is breaking records on both sides of the Atlantic and he will reprise the role in the last two films.  Watch I-Reporter give her review of Potter\\'s latest » . There is life beyond Potter, however. The Londoner has filmed a TV movie called \"My Boy Jack,\" about author Rudyard Kipling and his son, due for release later this year. He will also appear in \"December Boys,\" an Australian film about four boys who escape an orphanage. Earlier this year, he made his stage debut playing a tortured teenager in Peter Shaffer\\'s \"Equus.\" Meanwhile, he is braced for even closer media scrutiny now that he\\'s legally an adult: \"I just think I\\'m going to be more sort of fair game,\" he told Reuters. E-mail to a friend . Copyright 2007 Reuters. All rights reserved.This material may not be published, broadcast, rewritten, or redistributed.'"
      ]
     },
     "execution_count": 178,
     "metadata": {},
     "output_type": "execute_result"
    }
   ],
   "source": [
    "df['article'][0]"
   ]
  },
  {
   "cell_type": "code",
   "execution_count": 165,
   "metadata": {},
   "outputs": [
    {
     "data": {
      "text/plain": [
       "'daniel radcliff harri potter harri potter order phoenix disappoint gossip columnist around world young actor say ha plan fritter hi cash away fast car drink celebr parti . 18 radcliff abl gambl casino buy drink pub see horror film hostel part ii current six place hi number one movi uk box offic chart .'"
      ]
     },
     "execution_count": 165,
     "metadata": {},
     "output_type": "execute_result"
    }
   ],
   "source": [
    "df['summary'][0]"
   ]
  }
 ],
 "metadata": {
  "kernelspec": {
   "display_name": "Python 3",
   "language": "python",
   "name": "python3"
  },
  "language_info": {
   "codemirror_mode": {
    "name": "ipython",
    "version": 3
   },
   "file_extension": ".py",
   "mimetype": "text/x-python",
   "name": "python",
   "nbconvert_exporter": "python",
   "pygments_lexer": "ipython3",
   "version": "3.8.18"
  }
 },
 "nbformat": 4,
 "nbformat_minor": 2
}
