{
 "cells": [
  {
   "cell_type": "code",
   "execution_count": 3,
   "metadata": {},
   "outputs": [],
   "source": [
    "import pandas as pd\n",
    "import ast  \n",
    "from scipy.stats import wilcoxon"
   ]
  },
  {
   "cell_type": "code",
   "execution_count": 7,
   "metadata": {},
   "outputs": [],
   "source": [
    "def extract_rouge1_fmeasure(rouge_str, filed_name='rouge1'):\n",
    "    \"\"\"Extract rouge 1, fmeasure\"\"\"\n",
    "    start_idx = rouge_str.find(f\"'{filed_name}': Score(\")\n",
    "    rouge_section = rouge_str[start_idx:].split(\")\", 1)[0]\n",
    "    for part in rouge_section.split(\",\"):\n",
    "        if \"fmeasure=\" in part:\n",
    "            return float(part.split(\"=\")[1].strip())"
   ]
  },
  {
   "cell_type": "code",
   "execution_count": 12,
   "metadata": {},
   "outputs": [],
   "source": [
    "df_custom_1 = pd.read_csv('/Users/marysia/Text_summarization/Summarizers/Results_df/custom_method_l1.csv')\n",
    "df_custom_2 = pd.read_csv('/Users/marysia/Text_summarization/Summarizers/Results_df/custom_method_l2.csv')\n",
    "df_custom_3 = pd.read_csv('/Users/marysia/Text_summarization/Summarizers/Results_df/custom_method_l3.csv')"
   ]
  },
  {
   "cell_type": "code",
   "execution_count": 13,
   "metadata": {},
   "outputs": [],
   "source": [
    "df_custom_1['rouge1_fmeasure'] = df_custom_1['rouge_scores'].apply(extract_rouge1_fmeasure)\n",
    "df_custom_2['rouge1_fmeasure'] = df_custom_2['rouge_scores'].apply(extract_rouge1_fmeasure)\n",
    "df_custom_3['rouge1_fmeasure'] = df_custom_3['rouge_scores'].apply(extract_rouge1_fmeasure)"
   ]
  },
  {
   "cell_type": "markdown",
   "metadata": {},
   "source": [
    "# 1 senetce vs 2 in custom method"
   ]
  },
  {
   "cell_type": "code",
   "execution_count": 14,
   "metadata": {},
   "outputs": [
    {
     "name": "stdout",
     "output_type": "stream",
     "text": [
      "Wilcoxon Test Statistic: 69854.5\n",
      "P-value: 1.2894598773704153e-05\n",
      "Statistically significant difference (reject null hypothesis).\n"
     ]
    }
   ],
   "source": [
    "stat, p_value = wilcoxon(df_custom_1['rouge1_fmeasure'].values, df_custom_2['rouge1_fmeasure'].values)\n",
    "\n",
    "print(f\"Wilcoxon Test Statistic: {stat}\")\n",
    "print(f\"P-value: {p_value}\")\n",
    "\n",
    "if p_value < 0.05:\n",
    "    print(\"Statistically significant difference (reject null hypothesis).\")\n",
    "else:\n",
    "    print(\"No significant difference (fail to reject null hypothesis).\")"
   ]
  },
  {
   "cell_type": "markdown",
   "metadata": {},
   "source": [
    "# 1 vs 3"
   ]
  },
  {
   "cell_type": "code",
   "execution_count": 15,
   "metadata": {},
   "outputs": [
    {
     "name": "stdout",
     "output_type": "stream",
     "text": [
      "Wilcoxon Test Statistic: 81812.0\n",
      "P-value: 7.039261586093506e-14\n",
      "Statistically significant difference (reject null hypothesis).\n"
     ]
    }
   ],
   "source": [
    "stat, p_value = wilcoxon(df_custom_1['rouge1_fmeasure'].values, df_custom_3['rouge1_fmeasure'].values)\n",
    "\n",
    "print(f\"Wilcoxon Test Statistic: {stat}\")\n",
    "print(f\"P-value: {p_value}\")\n",
    "\n",
    "if p_value < 0.05:\n",
    "    print(\"Statistically significant difference (reject null hypothesis).\")\n",
    "else:\n",
    "    print(\"No significant difference (fail to reject null hypothesis).\")"
   ]
  },
  {
   "cell_type": "markdown",
   "metadata": {},
   "source": [
    "# 2 vs 3"
   ]
  },
  {
   "cell_type": "code",
   "execution_count": 16,
   "metadata": {},
   "outputs": [
    {
     "name": "stdout",
     "output_type": "stream",
     "text": [
      "Wilcoxon Test Statistic: 121492.0\n",
      "P-value: 0.9798214257633362\n",
      "No significant difference (fail to reject null hypothesis).\n"
     ]
    }
   ],
   "source": [
    "stat, p_value = wilcoxon(df_custom_2['rouge1_fmeasure'].values, df_custom_3['rouge1_fmeasure'].values)\n",
    "\n",
    "print(f\"Wilcoxon Test Statistic: {stat}\")\n",
    "print(f\"P-value: {p_value}\")\n",
    "\n",
    "if p_value < 0.05:\n",
    "    print(\"Statistically significant difference (reject null hypothesis).\")\n",
    "else:\n",
    "    print(\"No significant difference (fail to reject null hypothesis).\")"
   ]
  }
 ],
 "metadata": {
  "kernelspec": {
   "display_name": "Python 3",
   "language": "python",
   "name": "python3"
  },
  "language_info": {
   "codemirror_mode": {
    "name": "ipython",
    "version": 3
   },
   "file_extension": ".py",
   "mimetype": "text/x-python",
   "name": "python",
   "nbconvert_exporter": "python",
   "pygments_lexer": "ipython3",
   "version": "3.8.18"
  }
 },
 "nbformat": 4,
 "nbformat_minor": 2
}
