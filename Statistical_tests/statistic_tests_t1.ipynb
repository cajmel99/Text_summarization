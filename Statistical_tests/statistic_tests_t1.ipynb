{
 "cells": [
  {
   "cell_type": "code",
   "execution_count": 1,
   "metadata": {},
   "outputs": [],
   "source": [
    "import pandas as pd\n",
    "import ast  \n",
    "from scipy.stats import wilcoxon"
   ]
  },
  {
   "cell_type": "code",
   "execution_count": null,
   "metadata": {},
   "outputs": [],
   "source": [
    "def extract_rouge1_fmeasure(rouge_str):\n",
    "    \"\"\"Extract rouge 1, fmeasure\"\"\"\n",
    "    start_idx = rouge_str.find(\"'rouge1': Score(\")\n",
    "    rouge1_section = rouge_str[start_idx:].split(\")\", 1)[0]\n",
    "    for part in rouge1_section.split(\",\"):\n",
    "        if \"fmeasure=\" in part:\n",
    "            return float(part.split(\"=\")[1].strip())"
   ]
  },
  {
   "cell_type": "code",
   "execution_count": 29,
   "metadata": {},
   "outputs": [],
   "source": [
    "df_custom = pd.read_csv('/Users/marysia/Text_summarization/Summarizers/Results_df/custom_method_l3.csv')\n",
    "df_modified_TextRank = pd.read_csv('/Users/marysia/Text_summarization/Summarizers/Results_df/Modified_Text_Rank.csv')\n",
    "df_multi_graph = pd.read_csv('/Users/marysia/Text_summarization/Summarizers/Results_df/Multi_graph.csv')\n",
    "df_gusum = pd.read_csv()"
   ]
  },
  {
   "cell_type": "code",
   "execution_count": 7,
   "metadata": {},
   "outputs": [
    {
     "data": {
      "text/plain": [
       "\"{'rouge1': Score(precision=0.47058823529411764, recall=0.18823529411764706, fmeasure=0.2689075630252101), 'rouge2': Score(precision=0.15151515151515152, recall=0.05952380952380952, fmeasure=0.08547008547008547), 'rougeL': Score(precision=0.4117647058823529, recall=0.16470588235294117, fmeasure=0.23529411764705885), 'rougeLsum': Score(precision=0.4117647058823529, recall=0.16470588235294117, fmeasure=0.23529411764705885)}\""
      ]
     },
     "execution_count": 7,
     "metadata": {},
     "output_type": "execute_result"
    }
   ],
   "source": [
    "df_custom['rouge_scores'][0]"
   ]
  },
  {
   "cell_type": "markdown",
   "metadata": {},
   "source": [
    "# Custom method vs TextRank"
   ]
  },
  {
   "cell_type": "code",
   "execution_count": 30,
   "metadata": {},
   "outputs": [
    {
     "name": "stdout",
     "output_type": "stream",
     "text": [
      "Wilcoxon Test Statistic: 206298.5\n",
      "P-value: 6.065111219185567e-06\n",
      "Statistically significant difference (reject null hypothesis).\n"
     ]
    }
   ],
   "source": [
    "# Extract f-measure of ROUGE 1\n",
    "df_custom['rouge1_fmeasure'] = df_custom['rouge_scores'].apply(extract_rouge1_fmeasure)\n",
    "df_modified_TextRank['rouge1_fmeasure'] = df_modified_TextRank['rouge_scores'].apply(extract_rouge1_fmeasure)\n",
    "\n",
    "# Wilcoxon test\n",
    "stat, p_value = wilcoxon(df_custom['rouge1_fmeasure'].values, df_modified_TextRank['rouge1_fmeasure'].values)\n",
    "\n",
    "print(f\"Wilcoxon Test Statistic: {stat}\")\n",
    "print(f\"P-value: {p_value}\")\n",
    "\n",
    "if p_value < 0.05:\n",
    "    print(\"Statistically significant difference (reject null hypothesis).\")\n",
    "else:\n",
    "    print(\"No significant difference (fail to reject null hypothesis).\")"
   ]
  },
  {
   "cell_type": "markdown",
   "metadata": {},
   "source": [
    "# Custom method vs MultiGraph"
   ]
  },
  {
   "cell_type": "code",
   "execution_count": 33,
   "metadata": {},
   "outputs": [
    {
     "name": "stdout",
     "output_type": "stream",
     "text": [
      "Wilcoxon Test Statistic: 154870.5\n",
      "P-value: 0.0\n",
      "Statistically significant difference (reject null hypothesis).\n"
     ]
    }
   ],
   "source": [
    "# Extract f-measure of ROUGE 1\n",
    "df_multi_graph['rouge1_fmeasure'] = df_multi_graph['rouge_scores'].apply(extract_rouge1_fmeasure)\n",
    "\n",
    "# Wilcoxon test\n",
    "stat, p_value = wilcoxon(df_custom['rouge1_fmeasure'].values, df_multi_graph['rouge1_fmeasure'].values)\n",
    "\n",
    "print(f\"Wilcoxon Test Statistic: {stat}\")\n",
    "print(f\"P-value: {round(p_value, 5)}\")\n",
    "\n",
    "if p_value < 0.05:\n",
    "    print(\"Statistically significant difference (reject null hypothesis).\")\n",
    "else:\n",
    "    print(\"No significant difference (fail to reject null hypothesis).\")"
   ]
  },
  {
   "cell_type": "markdown",
   "metadata": {},
   "source": [
    "# Custom method vs GUSUM"
   ]
  },
  {
   "cell_type": "code",
   "execution_count": null,
   "metadata": {},
   "outputs": [],
   "source": [
    "# Extract f-measure of ROUGE 1\n",
    "df_gusum['rouge1_fmeasure'] = df_gusum['rouge_scores'].apply(extract_rouge1_fmeasure)\n",
    "\n",
    "# Wilcoxon test\n",
    "stat, p_value = wilcoxon(df_custom['rouge1_fmeasure'].values, df_gusum['rouge1_fmeasure'].values)\n",
    "\n",
    "print(f\"Wilcoxon Test Statistic: {stat}\")\n",
    "print(f\"P-value: {p_value}\")\n",
    "\n",
    "if p_value < 0.05:\n",
    "    print(\"Statistically significant difference (reject null hypothesis).\")\n",
    "else:\n",
    "    print(\"No significant difference (fail to reject null hypothesis).\")"
   ]
  }
 ],
 "metadata": {
  "kernelspec": {
   "display_name": "Python 3",
   "language": "python",
   "name": "python3"
  },
  "language_info": {
   "codemirror_mode": {
    "name": "ipython",
    "version": 3
   },
   "file_extension": ".py",
   "mimetype": "text/x-python",
   "name": "python",
   "nbconvert_exporter": "python",
   "pygments_lexer": "ipython3",
   "version": "3.8.18"
  }
 },
 "nbformat": 4,
 "nbformat_minor": 2
}
