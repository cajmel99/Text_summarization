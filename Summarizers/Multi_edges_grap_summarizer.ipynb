{
 "cells": [
  {
   "cell_type": "code",
   "execution_count": 13,
   "metadata": {},
   "outputs": [],
   "source": [
    "import pandas as pd\n",
    "import numpy as np\n",
    "import regex as re\n",
    "import nltk\n",
    "from utils import cleaned_list_of_sentences\n",
    "from datasets import load_dataset\n",
    "import re\n",
    "import numpy as np\n",
    "from nltk.corpus import stopwords\n",
    "from nltk.stem import PorterStemmer\n",
    "from nltk.tokenize import sent_tokenize, word_tokenize"
   ]
  },
  {
   "cell_type": "markdown",
   "metadata": {},
   "source": [
    "# Load data"
   ]
  },
  {
   "cell_type": "code",
   "execution_count": 2,
   "metadata": {},
   "outputs": [],
   "source": [
    "# All together\n",
    "cnn_daily_dataset = load_dataset('cnn_dailymail', '3.0.0')\n",
    "\n",
    "train_df = pd.DataFrame.from_dict(cnn_daily_dataset['train']).drop(columns='id')\n",
    "val_df = pd.DataFrame.from_dict(cnn_daily_dataset['validation']).drop(columns='id')\n",
    "test_df = pd.DataFrame.from_dict(cnn_daily_dataset['test']).drop(columns='id')\n",
    "\n",
    "df = pd.concat([train_df,test_df, val_df], ignore_index=True)"
   ]
  },
  {
   "cell_type": "code",
   "execution_count": 3,
   "metadata": {},
   "outputs": [
    {
     "data": {
      "text/html": [
       "<div>\n",
       "<style scoped>\n",
       "    .dataframe tbody tr th:only-of-type {\n",
       "        vertical-align: middle;\n",
       "    }\n",
       "\n",
       "    .dataframe tbody tr th {\n",
       "        vertical-align: top;\n",
       "    }\n",
       "\n",
       "    .dataframe thead th {\n",
       "        text-align: right;\n",
       "    }\n",
       "</style>\n",
       "<table border=\"1\" class=\"dataframe\">\n",
       "  <thead>\n",
       "    <tr style=\"text-align: right;\">\n",
       "      <th></th>\n",
       "      <th>article</th>\n",
       "      <th>highlights</th>\n",
       "    </tr>\n",
       "  </thead>\n",
       "  <tbody>\n",
       "    <tr>\n",
       "      <th>0</th>\n",
       "      <td>LONDON, England (Reuters) -- Harry Potter star...</td>\n",
       "      <td>Harry Potter star Daniel Radcliffe gets £20M f...</td>\n",
       "    </tr>\n",
       "    <tr>\n",
       "      <th>1</th>\n",
       "      <td>Editor's note: In our Behind the Scenes series...</td>\n",
       "      <td>Mentally ill inmates in Miami are housed on th...</td>\n",
       "    </tr>\n",
       "    <tr>\n",
       "      <th>2</th>\n",
       "      <td>MINNEAPOLIS, Minnesota (CNN) -- Drivers who we...</td>\n",
       "      <td>NEW: \"I thought I was going to die,\" driver sa...</td>\n",
       "    </tr>\n",
       "    <tr>\n",
       "      <th>3</th>\n",
       "      <td>WASHINGTON (CNN) -- Doctors removed five small...</td>\n",
       "      <td>Five small polyps found during procedure; \"non...</td>\n",
       "    </tr>\n",
       "    <tr>\n",
       "      <th>4</th>\n",
       "      <td>(CNN)  -- The National Football League has ind...</td>\n",
       "      <td>NEW: NFL chief, Atlanta Falcons owner critical...</td>\n",
       "    </tr>\n",
       "  </tbody>\n",
       "</table>\n",
       "</div>"
      ],
      "text/plain": [
       "                                             article  \\\n",
       "0  LONDON, England (Reuters) -- Harry Potter star...   \n",
       "1  Editor's note: In our Behind the Scenes series...   \n",
       "2  MINNEAPOLIS, Minnesota (CNN) -- Drivers who we...   \n",
       "3  WASHINGTON (CNN) -- Doctors removed five small...   \n",
       "4  (CNN)  -- The National Football League has ind...   \n",
       "\n",
       "                                          highlights  \n",
       "0  Harry Potter star Daniel Radcliffe gets £20M f...  \n",
       "1  Mentally ill inmates in Miami are housed on th...  \n",
       "2  NEW: \"I thought I was going to die,\" driver sa...  \n",
       "3  Five small polyps found during procedure; \"non...  \n",
       "4  NEW: NFL chief, Atlanta Falcons owner critical...  "
      ]
     },
     "execution_count": 3,
     "metadata": {},
     "output_type": "execute_result"
    }
   ],
   "source": [
    "df.head()"
   ]
  },
  {
   "cell_type": "code",
   "execution_count": null,
   "metadata": {},
   "outputs": [
    {
     "name": "stdout",
     "output_type": "stream",
     "text": [
      "LONDON, England (Reuters) -- Harry Potter star Daniel Radcliffe gains access to a reported £20 million ($41.1 million) fortune as he turns 18 on Monday, but he insists the money won't cast a spell on him. Daniel Radcliffe as Harry Potter in \"Harry Potter and the Order of the Phoenix\" To the disappointment of gossip columnists around the world, the young actor says he has no plans to fritter his cash away on fast cars, drink and celebrity parties. \"I don't plan to be one of those people who, as soon as they turn 18, suddenly buy themselves a massive sports car collection or something similar,\" he told an Australian interviewer earlier this month. \"I don't think I'll be particularly extravagant. \"The things I like buying are things that cost about 10 pounds -- books and CDs and DVDs.\" At 18, Radcliffe will be able to gamble in a casino, buy a drink in a pub or see the horror film \"Hostel: Part II,\" currently six places below his number one movie on the UK box office chart. Details of how he'll mark his landmark birthday are under wraps. His agent and publicist had no comment on his plans. \"I'll definitely have some sort of party,\" he said in an interview. \"Hopefully none of you will be reading about it.\" Radcliffe's earnings from the first five Potter films have been held in a trust fund which he has not been able to touch. Despite his growing fame and riches, the actor says he is keeping his feet firmly on the ground. \"People are always looking to say 'kid star goes off the rails,'\" he told reporters last month. \"But I try very hard not to go that way because it would be too easy for them.\" His latest outing as the boy wizard in \"Harry Potter and the Order of the Phoenix\" is breaking records on both sides of the Atlantic and he will reprise the role in the last two films.  Watch I-Reporter give her review of Potter's latest » . There is life beyond Potter, however. The Londoner has filmed a TV movie called \"My Boy Jack,\" about author Rudyard Kipling and his son, due for release later this year. He will also appear in \"December Boys,\" an Australian film about four boys who escape an orphanage. Earlier this year, he made his stage debut playing a tortured teenager in Peter Shaffer's \"Equus.\" Meanwhile, he is braced for even closer media scrutiny now that he's legally an adult: \"I just think I'm going to be more sort of fair game,\" he told Reuters. E-mail to a friend . Copyright 2007 Reuters. All rights reserved.This material may not be published, broadcast, rewritten, or redistributed.\n"
     ]
    }
   ],
   "source": [
    "# Example of first article\n",
    "print(df['article'][0])"
   ]
  },
  {
   "cell_type": "markdown",
   "metadata": {},
   "source": [
    "# Preprocess data"
   ]
  },
  {
   "cell_type": "code",
   "execution_count": null,
   "metadata": {},
   "outputs": [],
   "source": [
    "class TextPreprocessor:\n",
    "    def __init__(self, dataframe):\n",
    "        \"\"\"\n",
    "        Initialize the TextPreprocessor with a DataFrame.\n",
    "        \"\"\"\n",
    "        self.dataframe = dataframe\n",
    "        self.stop_words = set(stopwords.words('english'))\n",
    "        self.stemmer = PorterStemmer()\n",
    "\n",
    "    def preprocess(self):\n",
    "        \"\"\"\n",
    "        Apply all preprocessing steps to the DataFrame.\n",
    "        \"\"\"\n",
    "        self.dataframe = self.dataframe.applymap(lambda x: x.lower() if isinstance(x, str) else x)\n",
    "        self.dataframe['article'] = self.dataframe['article'].apply(self._clean_text)\n",
    "        self.dataframe['article'] = self.dataframe['article'].apply(self._cleaned_list_of_sentences)\n",
    "        return self.dataframe\n",
    "\n",
    "    def _clean_text(self, text):\n",
    "        \"\"\"\n",
    "        Remove non-alphabetic, non-digit, and non-dot characters from text.\n",
    "        \"\"\"\n",
    "        pattern = r'[^A-Za-z0-9.\\s]+'\n",
    "        return re.sub(pattern, '', text)\n",
    "\n",
    "    def _cleaned_list_of_sentences(self, text):\n",
    "        \"\"\"\n",
    "        Tokenize sentences, remove stopwords, and apply stemming.\n",
    "        \"\"\"\n",
    "        sentences = sent_tokenize(text)\n",
    "        cleaned_sentences = []\n",
    "        for sentence in sentences:\n",
    "            words = word_tokenize(sentence)\n",
    "            cleaned_words = [\n",
    "                self.stemmer.stem(word) for word in words if word.isalnum() and word not in self.stop_words\n",
    "            ]\n",
    "            cleaned_sentences.append(cleaned_words)\n",
    "        return cleaned_sentences\n",
    "\n",
    "\n",
    "class SummaryGenerator:\n",
    "    def __init__(self, sentences):\n",
    "        \"\"\"\n",
    "        Initialize the SummaryGenerator with a list of tokenized sentences.\n",
    "        \"\"\"\n",
    "        self.sentences = sentences\n",
    "        self.matrix = None\n",
    "        self.ranked_sentences = None\n",
    "\n",
    "    def create_matrix(self):\n",
    "        \"\"\"\n",
    "        Create a similarity matrix based on common words between sentences.\n",
    "        \"\"\"\n",
    "        n = len(self.sentences)\n",
    "        self.matrix = np.zeros((n, n))\n",
    "        for i in range(n):\n",
    "            for j in range(i + 1, n):\n",
    "                common_words = set(self.sentences[i]) & set(self.sentences[j])\n",
    "                self.matrix[i][j] = self.matrix[j][i] = len(common_words)\n",
    "        return self.matrix\n",
    "\n",
    "    def rank_sentences(self):\n",
    "        \"\"\"\n",
    "        Rank sentences based on the similarity matrix.\n",
    "        \"\"\"\n",
    "        if self.matrix is None:\n",
    "            raise ValueError(\"Matrix not created. Call create_matrix() first.\")\n",
    "        ranking_vector = self.matrix.sum(axis=1)\n",
    "        self.ranked_sentences = sorted(enumerate(ranking_vector), key=lambda x: x[1], reverse=True)\n",
    "        return self.ranked_sentences\n",
    "\n",
    "    def produce_summary(self, summary_threshold):\n",
    "        \"\"\"\n",
    "        Produce a summary based on the ranked sentences.\n",
    "        \"\"\"\n",
    "        if self.ranked_sentences is None:\n",
    "            raise ValueError(\"Sentences not ranked. Call rank_sentences() first.\")\n",
    "        summary_indices = [index for index, _ in self.ranked_sentences[:summary_threshold]]\n",
    "        summary = \" \".join([\" \".join(self.sentences[i]) for i in sorted(summary_indices)])\n",
    "        return summary\n"
   ]
  },
  {
   "cell_type": "code",
   "execution_count": 11,
   "metadata": {},
   "outputs": [
    {
     "name": "stderr",
     "output_type": "stream",
     "text": [
      "/var/folders/bl/bmspcss576x1_nsjjqdhbjvw0000gn/T/ipykernel_87748/505406563.py:7: SettingWithCopyWarning: \n",
      "A value is trying to be set on a copy of a slice from a DataFrame.\n",
      "Try using .loc[row_indexer,col_indexer] = value instead\n",
      "\n",
      "See the caveats in the documentation: https://pandas.pydata.org/pandas-docs/stable/user_guide/indexing.html#returning-a-view-versus-a-copy\n",
      "  df['summary'] = None  # Initialize a new column for summaries\n"
     ]
    }
   ],
   "source": [
    "# Step 1: Preprocess the articles using TextPreprocessor\n",
    "preprocessor = TextPreprocessor(df)\n",
    "df = preprocessor.preprocess()\n",
    "\n",
    "# Step 2: Generate summaries using SummaryGenerator\n",
    "df['summary'] = None  # Initialize a new column for summaries\n",
    "\n",
    "for index, row in df.iterrows():\n",
    "    tokenized_sentences = row['article']  # Tokenized sentences after preprocessing\n",
    "    summarizer = SummaryGenerator(tokenized_sentences)  # Initialize the summary generator\n",
    "    summarizer.create_matrix()  # Create the similarity matrix\n",
    "    summarizer.rank_sentences()  # Rank sentences based on the matrix\n",
    "    summary = summarizer.produce_summary(summary_threshold=2)  # Generate a summary with top-2 sentences\n",
    "    df.loc[index, 'summary'] = summary  # Store the summary in the DataFrame"
   ]
  },
  {
   "cell_type": "markdown",
   "metadata": {},
   "source": [
    "# Evaluate solution"
   ]
  },
  {
   "cell_type": "code",
   "execution_count": null,
   "metadata": {},
   "outputs": [],
   "source": [
    "scorer = rouge_scorer.RougeScorer(\n",
    "    ['rouge1', 'rouge2', 'rougeL', 'rougeLsum'],\n",
    "    use_stemmer=True\n",
    ")\n",
    "\n",
    "all_scores = []\n",
    "\n",
    "for idx, row in df.iterrows():\n",
    "    candidate = row['summary']\n",
    "    reference = row['highlights']\n",
    "    \n",
    "    # Compute the ROUGE scores for this pair\n",
    "    scores = scorer.score(candidate, reference)\n",
    "    \n",
    "    # Each score is a dict of { 'precision': float, 'recall': float, 'fmeasure': float }\n",
    "    all_scores.append(scores)\n",
    "\n",
    "# Attach these raw scores back to the DataFrame as a new column\n",
    "df['rouge_scores'] = all_scores"
   ]
  },
  {
   "cell_type": "code",
   "execution_count": 163,
   "metadata": {},
   "outputs": [
    {
     "data": {
      "text/html": [
       "<div>\n",
       "<style scoped>\n",
       "    .dataframe tbody tr th:only-of-type {\n",
       "        vertical-align: middle;\n",
       "    }\n",
       "\n",
       "    .dataframe tbody tr th {\n",
       "        vertical-align: top;\n",
       "    }\n",
       "\n",
       "    .dataframe thead th {\n",
       "        text-align: right;\n",
       "    }\n",
       "</style>\n",
       "<table border=\"1\" class=\"dataframe\">\n",
       "  <thead>\n",
       "    <tr style=\"text-align: right;\">\n",
       "      <th></th>\n",
       "      <th>article</th>\n",
       "      <th>highlights</th>\n",
       "      <th>summary</th>\n",
       "      <th>rouge_scores</th>\n",
       "    </tr>\n",
       "  </thead>\n",
       "  <tbody>\n",
       "    <tr>\n",
       "      <th>0</th>\n",
       "      <td>[london england reuter harri potter star danie...</td>\n",
       "      <td>harry potter star daniel radcliffe gets £20m f...</td>\n",
       "      <td>daniel radcliff harri potter harri potter orde...</td>\n",
       "      <td>{'rouge1': (0.23076923076923078, 0.17307692307...</td>\n",
       "    </tr>\n",
       "    <tr>\n",
       "      <th>1</th>\n",
       "      <td>[editor note behind scene seri cnn correspond ...</td>\n",
       "      <td>mentally ill inmates in miami are housed on th...</td>\n",
       "      <td>end ninth floor sever mental disturb get ani r...</td>\n",
       "      <td>{'rouge1': (0.04081632653061224, 0.05714285714...</td>\n",
       "    </tr>\n",
       "    <tr>\n",
       "      <th>2</th>\n",
       "      <td>[minneapoli minnesota cnn driver minneapoli br...</td>\n",
       "      <td>new: \"i thought i was going to die,\" driver sa...</td>\n",
       "      <td>whole bridg one side mississippi complet gave ...</td>\n",
       "      <td>{'rouge1': (0.04878048780487805, 0.05714285714...</td>\n",
       "    </tr>\n",
       "    <tr>\n",
       "      <th>3</th>\n",
       "      <td>[washington cnn doctor remov five small polyp ...</td>\n",
       "      <td>five small polyps found during procedure; \"non...</td>\n",
       "      <td>washington cnn doctor remov five small polyp p...</td>\n",
       "      <td>{'rouge1': (0.2916666666666667, 0.175, 0.21875...</td>\n",
       "    </tr>\n",
       "    <tr>\n",
       "      <th>4</th>\n",
       "      <td>[cnn nation footbal leagu ha indefinit suspend...</td>\n",
       "      <td>new: nfl chief, atlanta falcons owner critical...</td>\n",
       "      <td>cnn nation footbal leagu ha indefinit suspend ...</td>\n",
       "      <td>{'rouge1': (0.1951219512195122, 0.2, 0.1975308...</td>\n",
       "    </tr>\n",
       "  </tbody>\n",
       "</table>\n",
       "</div>"
      ],
      "text/plain": [
       "                                             article  \\\n",
       "0  [london england reuter harri potter star danie...   \n",
       "1  [editor note behind scene seri cnn correspond ...   \n",
       "2  [minneapoli minnesota cnn driver minneapoli br...   \n",
       "3  [washington cnn doctor remov five small polyp ...   \n",
       "4  [cnn nation footbal leagu ha indefinit suspend...   \n",
       "\n",
       "                                          highlights  \\\n",
       "0  harry potter star daniel radcliffe gets £20m f...   \n",
       "1  mentally ill inmates in miami are housed on th...   \n",
       "2  new: \"i thought i was going to die,\" driver sa...   \n",
       "3  five small polyps found during procedure; \"non...   \n",
       "4  new: nfl chief, atlanta falcons owner critical...   \n",
       "\n",
       "                                             summary  \\\n",
       "0  daniel radcliff harri potter harri potter orde...   \n",
       "1  end ninth floor sever mental disturb get ani r...   \n",
       "2  whole bridg one side mississippi complet gave ...   \n",
       "3  washington cnn doctor remov five small polyp p...   \n",
       "4  cnn nation footbal leagu ha indefinit suspend ...   \n",
       "\n",
       "                                        rouge_scores  \n",
       "0  {'rouge1': (0.23076923076923078, 0.17307692307...  \n",
       "1  {'rouge1': (0.04081632653061224, 0.05714285714...  \n",
       "2  {'rouge1': (0.04878048780487805, 0.05714285714...  \n",
       "3  {'rouge1': (0.2916666666666667, 0.175, 0.21875...  \n",
       "4  {'rouge1': (0.1951219512195122, 0.2, 0.1975308...  "
      ]
     },
     "execution_count": 163,
     "metadata": {},
     "output_type": "execute_result"
    }
   ],
   "source": [
    "df"
   ]
  }
 ],
 "metadata": {
  "kernelspec": {
   "display_name": "Python 3",
   "language": "python",
   "name": "python3"
  },
  "language_info": {
   "codemirror_mode": {
    "name": "ipython",
    "version": 3
   },
   "file_extension": ".py",
   "mimetype": "text/x-python",
   "name": "python",
   "nbconvert_exporter": "python",
   "pygments_lexer": "ipython3",
   "version": "3.8.18"
  }
 },
 "nbformat": 4,
 "nbformat_minor": 2
}
