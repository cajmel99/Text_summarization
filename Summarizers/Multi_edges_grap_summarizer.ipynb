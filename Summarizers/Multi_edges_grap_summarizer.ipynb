{
 "cells": [
  {
   "cell_type": "code",
   "execution_count": 14,
   "metadata": {},
   "outputs": [],
   "source": [
    "import pandas as pd\n",
    "import numpy as np\n",
    "import regex as re\n",
    "import nltk\n",
    "from datasets import load_dataset\n",
    "import re\n",
    "import numpy as np\n",
    "from nltk.corpus import stopwords\n",
    "from nltk.stem import PorterStemmer\n",
    "from nltk.tokenize import sent_tokenize, word_tokenize\n",
    "from utils import calculate_scores, sum_metrices"
   ]
  },
  {
   "cell_type": "markdown",
   "metadata": {},
   "source": [
    "# Load data"
   ]
  },
  {
   "cell_type": "code",
   "execution_count": 15,
   "metadata": {},
   "outputs": [],
   "source": [
    "# All together\n",
    "cnn_daily_dataset = load_dataset('cnn_dailymail', '3.0.0')\n",
    "\n",
    "train_df = pd.DataFrame.from_dict(cnn_daily_dataset['train']).drop(columns='id')\n",
    "val_df = pd.DataFrame.from_dict(cnn_daily_dataset['validation']).drop(columns='id')\n",
    "test_df = pd.DataFrame.from_dict(cnn_daily_dataset['test']).drop(columns='id')\n",
    "\n",
    "#df = pd.concat([train_df,test_df, val_df], ignore_index=True)"
   ]
  },
  {
   "cell_type": "code",
   "execution_count": 3,
   "metadata": {},
   "outputs": [
    {
     "data": {
      "text/html": [
       "<div>\n",
       "<style scoped>\n",
       "    .dataframe tbody tr th:only-of-type {\n",
       "        vertical-align: middle;\n",
       "    }\n",
       "\n",
       "    .dataframe tbody tr th {\n",
       "        vertical-align: top;\n",
       "    }\n",
       "\n",
       "    .dataframe thead th {\n",
       "        text-align: right;\n",
       "    }\n",
       "</style>\n",
       "<table border=\"1\" class=\"dataframe\">\n",
       "  <thead>\n",
       "    <tr style=\"text-align: right;\">\n",
       "      <th></th>\n",
       "      <th>article</th>\n",
       "      <th>highlights</th>\n",
       "    </tr>\n",
       "  </thead>\n",
       "  <tbody>\n",
       "    <tr>\n",
       "      <th>0</th>\n",
       "      <td>LONDON, England (Reuters) -- Harry Potter star...</td>\n",
       "      <td>Harry Potter star Daniel Radcliffe gets £20M f...</td>\n",
       "    </tr>\n",
       "    <tr>\n",
       "      <th>1</th>\n",
       "      <td>Editor's note: In our Behind the Scenes series...</td>\n",
       "      <td>Mentally ill inmates in Miami are housed on th...</td>\n",
       "    </tr>\n",
       "    <tr>\n",
       "      <th>2</th>\n",
       "      <td>MINNEAPOLIS, Minnesota (CNN) -- Drivers who we...</td>\n",
       "      <td>NEW: \"I thought I was going to die,\" driver sa...</td>\n",
       "    </tr>\n",
       "    <tr>\n",
       "      <th>3</th>\n",
       "      <td>WASHINGTON (CNN) -- Doctors removed five small...</td>\n",
       "      <td>Five small polyps found during procedure; \"non...</td>\n",
       "    </tr>\n",
       "    <tr>\n",
       "      <th>4</th>\n",
       "      <td>(CNN)  -- The National Football League has ind...</td>\n",
       "      <td>NEW: NFL chief, Atlanta Falcons owner critical...</td>\n",
       "    </tr>\n",
       "  </tbody>\n",
       "</table>\n",
       "</div>"
      ],
      "text/plain": [
       "                                             article  \\\n",
       "0  LONDON, England (Reuters) -- Harry Potter star...   \n",
       "1  Editor's note: In our Behind the Scenes series...   \n",
       "2  MINNEAPOLIS, Minnesota (CNN) -- Drivers who we...   \n",
       "3  WASHINGTON (CNN) -- Doctors removed five small...   \n",
       "4  (CNN)  -- The National Football League has ind...   \n",
       "\n",
       "                                          highlights  \n",
       "0  Harry Potter star Daniel Radcliffe gets £20M f...  \n",
       "1  Mentally ill inmates in Miami are housed on th...  \n",
       "2  NEW: \"I thought I was going to die,\" driver sa...  \n",
       "3  Five small polyps found during procedure; \"non...  \n",
       "4  NEW: NFL chief, Atlanta Falcons owner critical...  "
      ]
     },
     "execution_count": 3,
     "metadata": {},
     "output_type": "execute_result"
    }
   ],
   "source": [
    "df.head()"
   ]
  },
  {
   "cell_type": "code",
   "execution_count": 4,
   "metadata": {},
   "outputs": [
    {
     "name": "stdout",
     "output_type": "stream",
     "text": [
      "LONDON, England (Reuters) -- Harry Potter star Daniel Radcliffe gains access to a reported £20 million ($41.1 million) fortune as he turns 18 on Monday, but he insists the money won't cast a spell on him. Daniel Radcliffe as Harry Potter in \"Harry Potter and the Order of the Phoenix\" To the disappointment of gossip columnists around the world, the young actor says he has no plans to fritter his cash away on fast cars, drink and celebrity parties. \"I don't plan to be one of those people who, as soon as they turn 18, suddenly buy themselves a massive sports car collection or something similar,\" he told an Australian interviewer earlier this month. \"I don't think I'll be particularly extravagant. \"The things I like buying are things that cost about 10 pounds -- books and CDs and DVDs.\" At 18, Radcliffe will be able to gamble in a casino, buy a drink in a pub or see the horror film \"Hostel: Part II,\" currently six places below his number one movie on the UK box office chart. Details of how he'll mark his landmark birthday are under wraps. His agent and publicist had no comment on his plans. \"I'll definitely have some sort of party,\" he said in an interview. \"Hopefully none of you will be reading about it.\" Radcliffe's earnings from the first five Potter films have been held in a trust fund which he has not been able to touch. Despite his growing fame and riches, the actor says he is keeping his feet firmly on the ground. \"People are always looking to say 'kid star goes off the rails,'\" he told reporters last month. \"But I try very hard not to go that way because it would be too easy for them.\" His latest outing as the boy wizard in \"Harry Potter and the Order of the Phoenix\" is breaking records on both sides of the Atlantic and he will reprise the role in the last two films.  Watch I-Reporter give her review of Potter's latest » . There is life beyond Potter, however. The Londoner has filmed a TV movie called \"My Boy Jack,\" about author Rudyard Kipling and his son, due for release later this year. He will also appear in \"December Boys,\" an Australian film about four boys who escape an orphanage. Earlier this year, he made his stage debut playing a tortured teenager in Peter Shaffer's \"Equus.\" Meanwhile, he is braced for even closer media scrutiny now that he's legally an adult: \"I just think I'm going to be more sort of fair game,\" he told Reuters. E-mail to a friend . Copyright 2007 Reuters. All rights reserved.This material may not be published, broadcast, rewritten, or redistributed.\n"
     ]
    }
   ],
   "source": [
    "# Example of first article\n",
    "print(df['article'][0])"
   ]
  },
  {
   "cell_type": "markdown",
   "metadata": {},
   "source": [
    "# Preprocess data"
   ]
  },
  {
   "cell_type": "code",
   "execution_count": 3,
   "metadata": {},
   "outputs": [],
   "source": [
    "class TextPreprocessor:\n",
    "    def __init__(self, dataframe):\n",
    "        self.dataframe = dataframe\n",
    "        self.stop_words = set(stopwords.words('english'))\n",
    "        self.stemmer = PorterStemmer()\n",
    "\n",
    "    def preprocess(self):\n",
    "        self.dataframe = self.dataframe.applymap(lambda x: x.lower() if isinstance(x, str) else x)\n",
    "        self.dataframe['article'] = self.dataframe['article'].apply(self._clean_text)\n",
    "        self.dataframe['article'] = self.dataframe['article'].apply(self._cleaned_list_of_sentences)\n",
    "\n",
    "        return self.dataframe\n",
    "\n",
    "    def _clean_text(self, text):\n",
    "        \"\"\"\n",
    "        Remove non-alphabetic, non-digit, and non-dot characters from text.\n",
    "        \"\"\"\n",
    "        pattern = r'[^A-Za-z0-9.\\s]+'\n",
    "\n",
    "        return re.sub(pattern, '', text)\n",
    "\n",
    "    def _cleaned_list_of_sentences(self, text):\n",
    "        \"\"\"\n",
    "        Tokenize sentences, remove stopwords, and apply stemming.\n",
    "        \"\"\"\n",
    "        sentences = sent_tokenize(text)\n",
    "        cleaned_sentences = []\n",
    "        for sentence in sentences:\n",
    "            words = word_tokenize(sentence)\n",
    "            cleaned_words = [\n",
    "                self.stemmer.stem(word) for word in words if word.isalnum() and word not in self.stop_words\n",
    "            ]\n",
    "            cleaned_sentences.append(cleaned_words)\n",
    "\n",
    "        return cleaned_sentences\n",
    "\n",
    "\n",
    "class SummaryGenerator:\n",
    "    def __init__(self, sentences):\n",
    "        self.sentences = sentences\n",
    "        self.matrix = None\n",
    "        self.ranked_sentences = None\n",
    "\n",
    "    def create_matrix(self):\n",
    "        \"\"\"\n",
    "        Create a similarity matrix based on common words between sentences.\n",
    "        \"\"\"\n",
    "        n = len(self.sentences)\n",
    "        self.matrix = np.zeros((n, n))\n",
    "        for i in range(n):\n",
    "            for j in range(i + 1, n):\n",
    "                common_words = set(self.sentences[i]) & set(self.sentences[j])\n",
    "                self.matrix[i][j] = self.matrix[j][i] = len(common_words)\n",
    "\n",
    "        return self.matrix\n",
    "\n",
    "    def rank_sentences(self):\n",
    "        \"\"\"\n",
    "        Rank sentences based on the similarity matrix.\n",
    "        \"\"\"\n",
    "        ranking_vector = self.matrix.sum(axis=1)\n",
    "        self.ranked_sentences = sorted(enumerate(ranking_vector), key=lambda x: x[1], reverse=True)\n",
    "\n",
    "        return self.ranked_sentences\n",
    "\n",
    "    def produce_summary(self, summary_threshold):\n",
    "        \"\"\"\n",
    "        Produce a summary based on the ranked sentences.\n",
    "        \"\"\"\n",
    "        summary_indices = [index for index, _ in self.ranked_sentences[:summary_threshold]]\n",
    "        summary = \" \".join([\" \".join(self.sentences[i]) for i in sorted(summary_indices)])\n",
    "\n",
    "        return summary\n"
   ]
  },
  {
   "cell_type": "code",
   "execution_count": 32,
   "metadata": {},
   "outputs": [],
   "source": [
    "df = test_df"
   ]
  },
  {
   "cell_type": "code",
   "execution_count": 33,
   "metadata": {},
   "outputs": [],
   "source": [
    "# 1. Preprocess the articles \n",
    "preprocessor = TextPreprocessor(df)\n",
    "df = preprocessor.preprocess()\n",
    "\n",
    "# Generate summaries \n",
    "df['summary'] = None  \n",
    "\n",
    "for index, row in df.iterrows():\n",
    "    tokenized_sentences = row['article']  \n",
    "    summarizer = SummaryGenerator(tokenized_sentences) \n",
    "    summarizer.create_matrix()  \n",
    "    summarizer.rank_sentences()  \n",
    "    summary = summarizer.produce_summary(summary_threshold=3)  \n",
    "    df.loc[index, 'summary'] = summary  "
   ]
  },
  {
   "cell_type": "markdown",
   "metadata": {},
   "source": [
    "# Evaluate solution"
   ]
  },
  {
   "cell_type": "code",
   "execution_count": 25,
   "metadata": {},
   "outputs": [],
   "source": [
    "df = calculate_scores(df, 'summary', 'highlights')"
   ]
  },
  {
   "cell_type": "code",
   "execution_count": 26,
   "metadata": {},
   "outputs": [
    {
     "data": {
      "text/html": [
       "<div>\n",
       "<style scoped>\n",
       "    .dataframe tbody tr th:only-of-type {\n",
       "        vertical-align: middle;\n",
       "    }\n",
       "\n",
       "    .dataframe tbody tr th {\n",
       "        vertical-align: top;\n",
       "    }\n",
       "\n",
       "    .dataframe thead th {\n",
       "        text-align: right;\n",
       "    }\n",
       "</style>\n",
       "<table border=\"1\" class=\"dataframe\">\n",
       "  <thead>\n",
       "    <tr style=\"text-align: right;\">\n",
       "      <th></th>\n",
       "      <th>article</th>\n",
       "      <th>highlights</th>\n",
       "      <th>summary</th>\n",
       "      <th>rouge_scores</th>\n",
       "    </tr>\n",
       "  </thead>\n",
       "  <tbody>\n",
       "    <tr>\n",
       "      <th>0</th>\n",
       "      <td>[[cnnthe, palestinian, author, offici, becam, ...</td>\n",
       "      <td>membership gives the icc jurisdiction over all...</td>\n",
       "      <td>palestinian sign icc found rome statut januari...</td>\n",
       "      <td>{'rouge1': (0.4117647058823529, 0.368421052631...</td>\n",
       "    </tr>\n",
       "    <tr>\n",
       "      <th>1</th>\n",
       "      <td>[[cnnnever, mind, cat, nine, live], [stray, po...</td>\n",
       "      <td>theia, a bully breed mix, was apparently hit b...</td>\n",
       "      <td>veterinari hospit good samaritan fund committe...</td>\n",
       "      <td>{'rouge1': (0.06976744186046512, 0.13636363636...</td>\n",
       "    </tr>\n",
       "    <tr>\n",
       "      <th>2</th>\n",
       "      <td>[[cnnif, youv, follow, news, late, certain, th...</td>\n",
       "      <td>mohammad javad zarif has spent more time with ...</td>\n",
       "      <td>anoth way say outsid countri demonstr shah ira...</td>\n",
       "      <td>{'rouge1': (0.11428571428571428, 0.1, 0.106666...</td>\n",
       "    </tr>\n",
       "    <tr>\n",
       "      <th>3</th>\n",
       "      <td>[[cnnfive, american, monitor, three, week, oma...</td>\n",
       "      <td>17 americans were exposed to the ebola virus w...</td>\n",
       "      <td>cnnfive american monitor three week omaha nebr...</td>\n",
       "      <td>{'rouge1': (0.09523809523809523, 0.21052631578...</td>\n",
       "    </tr>\n",
       "    <tr>\n",
       "      <th>4</th>\n",
       "      <td>[[cnna, duke, student, admit, hang, noos, made...</td>\n",
       "      <td>student is no longer on duke university campus...</td>\n",
       "      <td>cnna duke student admit hang noos made rope tr...</td>\n",
       "      <td>{'rouge1': (0.19047619047619047, 0.5, 0.275862...</td>\n",
       "    </tr>\n",
       "  </tbody>\n",
       "</table>\n",
       "</div>"
      ],
      "text/plain": [
       "                                             article  \\\n",
       "0  [[cnnthe, palestinian, author, offici, becam, ...   \n",
       "1  [[cnnnever, mind, cat, nine, live], [stray, po...   \n",
       "2  [[cnnif, youv, follow, news, late, certain, th...   \n",
       "3  [[cnnfive, american, monitor, three, week, oma...   \n",
       "4  [[cnna, duke, student, admit, hang, noos, made...   \n",
       "\n",
       "                                          highlights  \\\n",
       "0  membership gives the icc jurisdiction over all...   \n",
       "1  theia, a bully breed mix, was apparently hit b...   \n",
       "2  mohammad javad zarif has spent more time with ...   \n",
       "3  17 americans were exposed to the ebola virus w...   \n",
       "4  student is no longer on duke university campus...   \n",
       "\n",
       "                                             summary  \\\n",
       "0  palestinian sign icc found rome statut januari...   \n",
       "1  veterinari hospit good samaritan fund committe...   \n",
       "2  anoth way say outsid countri demonstr shah ira...   \n",
       "3  cnnfive american monitor three week omaha nebr...   \n",
       "4  cnna duke student admit hang noos made rope tr...   \n",
       "\n",
       "                                        rouge_scores  \n",
       "0  {'rouge1': (0.4117647058823529, 0.368421052631...  \n",
       "1  {'rouge1': (0.06976744186046512, 0.13636363636...  \n",
       "2  {'rouge1': (0.11428571428571428, 0.1, 0.106666...  \n",
       "3  {'rouge1': (0.09523809523809523, 0.21052631578...  \n",
       "4  {'rouge1': (0.19047619047619047, 0.5, 0.275862...  "
      ]
     },
     "execution_count": 26,
     "metadata": {},
     "output_type": "execute_result"
    }
   ],
   "source": [
    "df.head()"
   ]
  },
  {
   "cell_type": "code",
   "execution_count": 27,
   "metadata": {},
   "outputs": [],
   "source": [
    "mean_scores = sum_metrices(df, 'rouge_scores', results_folder='Results', file_name='Multi_edges_graph_1.csv')"
   ]
  },
  {
   "cell_type": "code",
   "execution_count": 28,
   "metadata": {},
   "outputs": [
    {
     "data": {
      "text/plain": [
       "{'rouge1': {'precision': {'mean': 0.14901270748928494,\n",
       "   'std': 0.10140257309110637},\n",
       "  'recall': {'mean': 0.22866884813650046, 'std': 0.1490334420598135},\n",
       "  'fmeasure': {'mean': 0.1726083445431439, 'std': 0.1094986335156275}},\n",
       " 'rouge2': {'precision': {'mean': 0.034803296419381326,\n",
       "   'std': 0.05122864909744376},\n",
       "  'recall': {'mean': 0.053524391738245414, 'std': 0.07698983362898121},\n",
       "  'fmeasure': {'mean': 0.040419390951128904, 'std': 0.05803994756892757}},\n",
       " 'rougeL': {'precision': {'mean': 0.115656084041827,\n",
       "   'std': 0.08357053086786688},\n",
       "  'recall': {'mean': 0.1786383828705406, 'std': 0.12569986428318355},\n",
       "  'fmeasure': {'mean': 0.13436040410253372, 'std': 0.0918524154004193}},\n",
       " 'rougeLsum': {'precision': {'mean': 0.1287863784838933,\n",
       "   'std': 0.09201604623071462},\n",
       "  'recall': {'mean': 0.1987300399604231, 'std': 0.13830964888462138},\n",
       "  'fmeasure': {'mean': 0.14957387398520297, 'std': 0.10101652971880591}}}"
      ]
     },
     "execution_count": 28,
     "metadata": {},
     "output_type": "execute_result"
    }
   ],
   "source": [
    "mean_scores"
   ]
  }
 ],
 "metadata": {
  "kernelspec": {
   "display_name": "Python 3",
   "language": "python",
   "name": "python3"
  },
  "language_info": {
   "codemirror_mode": {
    "name": "ipython",
    "version": 3
   },
   "file_extension": ".py",
   "mimetype": "text/x-python",
   "name": "python",
   "nbconvert_exporter": "python",
   "pygments_lexer": "ipython3",
   "version": "3.8.18"
  }
 },
 "nbformat": 4,
 "nbformat_minor": 2
}
