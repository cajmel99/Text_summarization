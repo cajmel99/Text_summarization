{
 "cells": [
  {
   "cell_type": "code",
   "execution_count": null,
   "metadata": {},
   "outputs": [],
   "source": [
    "import numpy as np\n",
    "import pandas as pd\n",
    "from nltk.tokenize import sent_tokenize, word_tokenize\n",
    "from sentence_transformers import SentenceTransformer\n",
    "from scipy.spatial.distance import cosine\n",
    "from utils import calculate_scores, sum_metrices, calculate_mean\n",
    "from datasets import load_dataset\n",
    "import os"
   ]
  },
  {
   "cell_type": "markdown",
   "metadata": {},
   "source": [
    "# Load data"
   ]
  },
  {
   "cell_type": "code",
   "execution_count": null,
   "metadata": {},
   "outputs": [],
   "source": [
    "dataset = load_dataset(\"cnn_dailymail\", \"3.0.0\", split=\"train\").select(range(1000))\n",
    "data = pd.DataFrame(dataset)"
   ]
  },
  {
   "cell_type": "markdown",
   "metadata": {},
   "source": [
    "# GUSUM summarizer"
   ]
  },
  {
   "cell_type": "code",
   "execution_count": 3,
   "metadata": {},
   "outputs": [],
   "source": [
    "def preprocess_text(df):\n",
    "    df['sentences'] = df['article'].apply(sent_tokenize)\n",
    "    return df\n",
    "\n",
    "def embed_sentences(row, model):\n",
    "    embeddings = model.encode(row['sentences'], convert_to_tensor=True)\n",
    "    return embeddings.cpu().numpy()\n",
    "\n",
    "def compute_sentence_features(sentences):\n",
    "    \"\"\"\n",
    "    Compute Sentence Features\n",
    "    \"\"\"\n",
    "    features = []\n",
    "    max_length = max(len(word_tokenize(sentence)) for sentence in sentences)\n",
    "    for idx, sentence in enumerate(sentences):\n",
    "        length_score = len(word_tokenize(sentence)) / max_length # No. W ord in Si No.W ord in Longest Sentence (1)\n",
    "        position_score = 1 if idx == 0 or idx == len(sentences) - 1 else (len(sentences) - idx) / len(sentences) # The first and the last sentence of a document are typically important (2)\n",
    "        words = word_tokenize(sentence)\n",
    "        proper_nouns = sum(1 for word in words if word[0].isupper())\n",
    "        proper_noun_score = proper_nouns / len(words) if words else 0 # (3)\n",
    "        numerical_tokens = sum(1 for word in words if word.isdigit())\n",
    "        numerical_token_score = numerical_tokens / len(words) if words else 0 # (4)\n",
    "\n",
    "        feature_score = length_score + position_score + proper_noun_score + numerical_token_score\n",
    "        features.append(feature_score)\n",
    "    return features\n",
    "\n",
    "def create_sentence_graph(embeddings):\n",
    "    num_sentences = len(embeddings)\n",
    "    graph = np.zeros((num_sentences, num_sentences))\n",
    "    for i in range(num_sentences):\n",
    "        for j in range(i + 1, num_sentences):\n",
    "            similarity = 1 - cosine(embeddings[i], embeddings[j])\n",
    "            graph[i, j] = similarity\n",
    "            graph[j, i] = similarity\n",
    "    return graph\n",
    "\n",
    "def rank_sentences(sentences, graph, features):\n",
    "    centrality_scores = np.sum(graph, axis=1)\n",
    "    ranks = [features[i] * centrality_scores[i] for i in range(len(sentences))]\n",
    "    ranked_indices = np.argsort(ranks)[::-1]  # Sort desc\n",
    "    return [sentences[i] for i in ranked_indices]\n",
    "\n",
    "def extract_summary(ranked_sentences, k=3):\n",
    "    return ' '.join(ranked_sentences[:k])"
   ]
  },
  {
   "cell_type": "code",
   "execution_count": 4,
   "metadata": {},
   "outputs": [],
   "source": [
    "# 1. Preprocess the dataset\n",
    "train_data = preprocess_text(data)\n",
    "\n",
    "# 2. Generate embeddings\n",
    "model = SentenceTransformer('all-MiniLM-L6-v2')\n",
    "data['embeddings'] = data.apply(lambda row: embed_sentences(row, model), axis=1)\n",
    "\n",
    "# 3. Compute Sentence Features\n",
    "data['sentence_features'] = data['sentences'].apply(compute_sentence_features)\n",
    "\n",
    "# 4. Create Sentence Graph\n",
    "data['graph'] = data['embeddings'].apply(create_sentence_graph)\n",
    "\n",
    "# 5. Rank Sentences Based on Centrality and Features\n",
    "data['ranked_sentences'] = data.apply(lambda row: rank_sentences(row['sentences'], row['graph'], row['sentence_features']), axis=1)\n",
    "\n",
    "# 6. Extract Summary\n",
    "data['gusum_summary'] = data['ranked_sentences'].apply(lambda sents: extract_summary(sents, k=3))"
   ]
  },
  {
   "cell_type": "markdown",
   "metadata": {},
   "source": [
    "# Caluate metrices"
   ]
  },
  {
   "cell_type": "code",
   "execution_count": 5,
   "metadata": {},
   "outputs": [],
   "source": [
    "df = calculate_scores(data, 'gusum_summary', 'highlights')\n",
    "directory = 'Results_df'\n",
    "if not os.path.exists(directory):\n",
    "    os.makedirs(directory)\n",
    "df.to_csv(os.path.join(directory, 'GUSUM_3.csv'))\n",
    "#mean_scores = sum_metrices(df, 'rouge_scores', 'Results', 'GUMSUM_l1.csv')"
   ]
  },
  {
   "cell_type": "code",
   "execution_count": null,
   "metadata": {},
   "outputs": [],
   "source": [
    "df.head()"
   ]
  },
  {
   "cell_type": "code",
   "execution_count": null,
   "metadata": {},
   "outputs": [],
   "source": [
    "mean_scores"
   ]
  }
 ],
 "metadata": {
  "kernelspec": {
   "display_name": "Python 3",
   "language": "python",
   "name": "python3"
  },
  "language_info": {
   "codemirror_mode": {
    "name": "ipython",
    "version": 3
   },
   "file_extension": ".py",
   "mimetype": "text/x-python",
   "name": "python",
   "nbconvert_exporter": "python",
   "pygments_lexer": "ipython3",
   "version": "3.8.18"
  }
 },
 "nbformat": 4,
 "nbformat_minor": 2
}
