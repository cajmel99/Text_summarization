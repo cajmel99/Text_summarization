{
 "cells": [
  {
   "cell_type": "code",
   "execution_count": 11,
   "metadata": {},
   "outputs": [],
   "source": [
    "import pandas as pd\n",
    "from nltk.tokenize import sent_tokenize\n",
    "from sentence_transformers import SentenceTransformer\n",
    "import numpy as np\n",
    "from scipy.spatial.distance import cosine\n",
    "import networkx as nx\n",
    "import community.community_louvain as louvain \n",
    "from datasets import load_dataset\n",
    "from utils import calculate_scores, sum_metrices\n",
    "import time\n",
    "import os"
   ]
  },
  {
   "cell_type": "markdown",
   "metadata": {},
   "source": [
    "# Load data"
   ]
  },
  {
   "cell_type": "code",
   "execution_count": 12,
   "metadata": {},
   "outputs": [],
   "source": [
    "dataset = load_dataset(\"cnn_dailymail\", \"3.0.0\", split=\"test\").select(range(1000))\n",
    "train_data = pd.DataFrame(dataset)"
   ]
  },
  {
   "cell_type": "code",
   "execution_count": null,
   "metadata": {},
   "outputs": [],
   "source": [
    "train_data.shape"
   ]
  },
  {
   "cell_type": "markdown",
   "metadata": {},
   "source": [
    "# Summarizer"
   ]
  },
  {
   "cell_type": "code",
   "execution_count": 22,
   "metadata": {},
   "outputs": [],
   "source": [
    "def preprocess_text(df):\n",
    "    df['sentences'] = df['article'].apply(sent_tokenize)\n",
    "    return df\n",
    "\n",
    "def embed_sentences(row, model):\n",
    "    embeddings = model.encode(row['sentences'], convert_to_tensor=True)\n",
    "    embeddings = embeddings.cpu().numpy()\n",
    "    return embeddings\n",
    "\n",
    "def build_and_add_graph(row, threshold=0.5):\n",
    "    \"\"\"\n",
    "    Builds a sentence similarity graph from embeddings. \n",
    "    \"\"\"\n",
    "    embeddings = row['embeddings']\n",
    "    num_sentences = len(embeddings)\n",
    "    graph = np.zeros((num_sentences, num_sentences))\n",
    "\n",
    "    for i in range(num_sentences):\n",
    "        for j in range(i + 1, num_sentences):\n",
    "            similarity = 1 - cosine(embeddings[i], embeddings[j])\n",
    "            if similarity > threshold:\n",
    "                graph[i, j] = similarity\n",
    "                graph[j, i] = similarity\n",
    "\n",
    "    return graph\n",
    "\n",
    "def compute_and_add_pagerank_scores(row):\n",
    "    \"\"\"\n",
    "    Computes PageRank centrality scores for the graph.\n",
    "    \"\"\"\n",
    "    graph = row['graph']\n",
    "    nx_graph = nx.from_numpy_array(graph)  \n",
    "    pagerank_scores = nx.pagerank(nx_graph)  # PageRank centrality scores\n",
    "    return pagerank_scores\n",
    "\n",
    "def add_communities(row):\n",
    "    \"\"\"\n",
    "    Detects communities using louvain\n",
    "    \"\"\"\n",
    "    graph = row['graph']\n",
    "    nx_graph = nx.from_numpy_array(graph)  \n",
    "    partition = louvain.best_partition(nx_graph)  # Detect communities\n",
    "    return partition\n",
    "\n",
    "def rank_sentences_and_extract_summary(row, max_length=1):\n",
    "    \"\"\"\n",
    "    Ranks sentences and extracts a summary based on ranked sentences.\n",
    "    \"\"\"\n",
    "    sentences = row['sentences']\n",
    "    pagerank_scores = row['pagerank_scores']\n",
    "    communities = row['communities']\n",
    "\n",
    "    # Rank sentences based on PageRank and community \n",
    "    ranked_sentences = sorted(enumerate(sentences), key=lambda x: pagerank_scores[x[0]] * (1 + communities[x[0]]), reverse=True)\n",
    "    \n",
    "    # Extract the top-ranked sentences\n",
    "    ranked_sentences = [sentences[i] for i, _ in ranked_sentences]\n",
    "    \n",
    "    summary = \" \".join(ranked_sentences[:max_length])\n",
    "    \n",
    "    return summary"
   ]
  },
  {
   "cell_type": "code",
   "execution_count": 23,
   "metadata": {},
   "outputs": [],
   "source": [
    "start_time = time.time()\n",
    "# 1. Preprocess the dataset\n",
    "train_data = preprocess_text(train_data)\n",
    "\n",
    "# 2. Generate embeddings\n",
    "model = SentenceTransformer('all-MiniLM-L6-v2')\n",
    "train_data['embeddings'] = train_data.apply(lambda row: embed_sentences(row, model), axis=1)\n",
    "\n",
    "# 3. Build the sentence similarity graph\n",
    "train_data['graph'] = train_data.apply(build_and_add_graph, axis=1)\n",
    "\n",
    "# 4. Compute centrality scores\n",
    "train_data['pagerank_scores'] = train_data.apply(compute_and_add_pagerank_scores, axis=1)\n",
    "\n",
    "# 5. Detect communities\n",
    "train_data['communities'] = train_data.apply(lambda row: add_communities(row), axis=1)\n",
    "\n",
    "# 6. Rank sentences and generate summaries\n",
    "train_data['generated_summary'] = train_data.apply(rank_sentences_and_extract_summary, axis=1)"
   ]
  },
  {
   "cell_type": "code",
   "execution_count": null,
   "metadata": {},
   "outputs": [],
   "source": [
    "print(f'The flow takes {round(end_time/60, 3)} minutes')"
   ]
  },
  {
   "cell_type": "code",
   "execution_count": null,
   "metadata": {},
   "outputs": [],
   "source": [
    "train_data.head()"
   ]
  },
  {
   "cell_type": "markdown",
   "metadata": {},
   "source": [
    "# Calculate matrices"
   ]
  },
  {
   "cell_type": "code",
   "execution_count": null,
   "metadata": {},
   "outputs": [],
   "source": [
    "train_data.shape"
   ]
  },
  {
   "cell_type": "code",
   "execution_count": 24,
   "metadata": {},
   "outputs": [],
   "source": [
    "df = calculate_scores(train_data, 'generated_summary', 'highlights')\n",
    "\n",
    "directory = 'Results_df'\n",
    "if not os.path.exists(directory):\n",
    "    os.makedirs(directory)\n",
    "df.to_csv(os.path.join(directory, 'custom_method_l1.csv'))\n",
    "mean_scores = sum_metrices(df, 'rouge_scores', 'Results', 'custom_method_l1.csv')"
   ]
  },
  {
   "cell_type": "code",
   "execution_count": 17,
   "metadata": {},
   "outputs": [],
   "source": [
    "df_tmp = pd.read_csv(os.path.join(directory, 'custom_method_l3.csv'))"
   ]
  },
  {
   "cell_type": "code",
   "execution_count": null,
   "metadata": {},
   "outputs": [],
   "source": [
    "df_tmp"
   ]
  },
  {
   "cell_type": "code",
   "execution_count": null,
   "metadata": {},
   "outputs": [],
   "source": [
    "mean_scores"
   ]
  }
 ],
 "metadata": {
  "kernelspec": {
   "display_name": "Python 3",
   "language": "python",
   "name": "python3"
  },
  "language_info": {
   "codemirror_mode": {
    "name": "ipython",
    "version": 3
   },
   "file_extension": ".py",
   "mimetype": "text/x-python",
   "name": "python",
   "nbconvert_exporter": "python",
   "pygments_lexer": "ipython3",
   "version": "3.8.18"
  }
 },
 "nbformat": 4,
 "nbformat_minor": 2
}
